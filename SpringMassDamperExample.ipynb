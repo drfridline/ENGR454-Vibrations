{
 "cells": [
  {
   "cell_type": "markdown",
   "metadata": {},
   "source": [
    "# Example: Spring-Mass-Damper System\n",
    "Consider the spring-mass-damper system shown where the mass $m = 1$ kg, damping constant $b = 6$ N$\\cdot$s/m, and spring constant $k = 25$ N/m.  The system is set in motion by an initial displacement $x(0) = 100$ mm and no initial velocity.\n",
    "\n",
    "<img src=\"SpringMassDamperExample.png\" width=200>\n",
    "\n",
    "1. Determine the natural frequency, damping ratio, damped natural frequency and time constant (if appropriate).\n",
    "2. Is the system overdamped, underdamped, critically damped, or undamped?\n",
    "3. Complete the provided Jupyter notebook to plot the response.  Does the response show oscillations?  If not, why? \n",
    "\n",
    "## Solution"
   ]
  },
  {
   "cell_type": "code",
   "execution_count": null,
   "metadata": {},
   "outputs": [],
   "source": [
    "import numpy as np\n",
    "import matplotlib.pyplot as plt\n",
    "%matplotlib inline"
   ]
  },
  {
   "cell_type": "markdown",
   "metadata": {},
   "source": [
    "#### <span style=\"color:blue\">1. Complete the following cell to define the system parameters `m`, `b`, `k`, `x0`, and `v0`</span>"
   ]
  },
  {
   "cell_type": "code",
   "execution_count": null,
   "metadata": {},
   "outputs": [],
   "source": [
    "m =\n",
    "b =\n",
    "k =\n",
    "x0 =\n",
    "v0 = "
   ]
  },
  {
   "cell_type": "markdown",
   "metadata": {},
   "source": [
    "### Natural Frequency\n",
    "The natural frequency should be computed in the cell below as \n",
    "$$ \\omega_n = \\sqrt{\\frac{k}{m}} $$\n",
    "\n",
    "#### <span style=\"color:blue\">2. Complete the following cell to define the natural frequency `omega_n`</span>"
   ]
  },
  {
   "cell_type": "code",
   "execution_count": null,
   "metadata": {},
   "outputs": [],
   "source": [
    "omega_n ="
   ]
  },
  {
   "cell_type": "markdown",
   "metadata": {},
   "source": [
    "### Damping Ratio\n",
    "The damping ratio should be computed in the cell below as\n",
    "$$ \\zeta = \\frac{b}{2\\sqrt{mk}} $$\n",
    "\n",
    "#### <span style=\"color:blue\">3. Complete the following cell to define the damping ratio `zeta`</span>"
   ]
  },
  {
   "cell_type": "code",
   "execution_count": null,
   "metadata": {},
   "outputs": [],
   "source": [
    "zeta = "
   ]
  },
  {
   "cell_type": "markdown",
   "metadata": {},
   "source": [
    "### Damped Natural Frequency\n",
    "The damped natural frequency should be computed in the cell below as\n",
    "$$ \\omega_d = \\omega_n\\sqrt{1-\\zeta^2} $$\n",
    "\n",
    "#### <span style=\"color:blue\">4. Complete the following cell to define the damped natural frequency `omega_d`</span>"
   ]
  },
  {
   "cell_type": "code",
   "execution_count": null,
   "metadata": {},
   "outputs": [],
   "source": [
    "omega_d = "
   ]
  },
  {
   "cell_type": "markdown",
   "metadata": {},
   "source": [
    "### Time Constant\n",
    "The time constant should be computed in the cell below as\n",
    "$$ \\tau = \\frac{1}{\\zeta\\omega_n} $$\n",
    "\n",
    "#### <span style=\"color:blue\">5. Complete the following cell to define the time constant `tau`</span>"
   ]
  },
  {
   "cell_type": "code",
   "execution_count": null,
   "metadata": {},
   "outputs": [],
   "source": [
    "tau = "
   ]
  },
  {
   "cell_type": "markdown",
   "metadata": {},
   "source": [
    "### Response Plot\n",
    "#### <span style=\"color:blue\">6. Complete the following cell to define the time array `t` and response `x` and then run the cell to generate the plot.</span>"
   ]
  },
  {
   "cell_type": "code",
   "execution_count": null,
   "metadata": {},
   "outputs": [],
   "source": []
  }
 ],
 "metadata": {
  "kernelspec": {
   "display_name": "Python 3",
   "language": "python",
   "name": "python3"
  },
  "language_info": {
   "codemirror_mode": {
    "name": "ipython",
    "version": 3
   },
   "file_extension": ".py",
   "mimetype": "text/x-python",
   "name": "python",
   "nbconvert_exporter": "python",
   "pygments_lexer": "ipython3",
   "version": "3.8.3"
  }
 },
 "nbformat": 4,
 "nbformat_minor": 4
}
