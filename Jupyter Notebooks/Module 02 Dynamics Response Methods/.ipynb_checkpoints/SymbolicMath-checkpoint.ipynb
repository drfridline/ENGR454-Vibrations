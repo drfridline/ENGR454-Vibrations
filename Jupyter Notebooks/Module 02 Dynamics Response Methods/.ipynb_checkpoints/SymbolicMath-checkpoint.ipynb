{
 "cells": [
  {
   "cell_type": "markdown",
   "metadata": {},
   "source": [
    "# Symbolic Math Notebook\n",
    "This notebook provides the necessary framework for conducting __symbolic math__ calculations in Python."
   ]
  },
  {
   "cell_type": "code",
   "execution_count": 21,
   "metadata": {},
   "outputs": [],
   "source": [
    "from sympy import *\n",
    "from IPython.display import display, Latex\n",
    "x, dx, sigma, omega_d, t, C1, C2 = symbols('x dx sigma omega_d t C1 C2')\n",
    "init_printing()"
   ]
  },
  {
   "cell_type": "markdown",
   "metadata": {},
   "source": [
    "Let's now take the derivative of\n",
    "$$ x(t) = e^{\\sigma t}\\left(C_1\\sin\\omega_dt + C_2\\cos\\omega_dt\\right) $$"
   ]
  },
  {
   "cell_type": "code",
   "execution_count": 23,
   "metadata": {},
   "outputs": [
    {
     "data": {
      "text/latex": [
       "$$dx = \\left(- C_{1} \\omega_{d} \\sin{\\left(\\omega_{d} t \\right)} + C_{1} \\sigma \\cos{\\left(\\omega_{d} t \\right)} + C_{2} \\omega_{d} \\cos{\\left(\\omega_{d} t \\right)} + C_{2} \\sigma \\sin{\\left(\\omega_{d} t \\right)}\\right) e^{\\sigma t}$$"
      ],
      "text/plain": [
       "<IPython.core.display.Latex object>"
      ]
     },
     "metadata": {},
     "output_type": "display_data"
    }
   ],
   "source": [
    "x = exp(sigma*t)*(C1*cos(omega_d*t)+C2*sin(omega_d*t))\n",
    "dx = trigsimp(diff(x,t))\n",
    "result = \"$$dx = {}$$\".format(latex(dx.doit()))\n",
    "display(Latex(result))"
   ]
  },
  {
   "cell_type": "code",
   "execution_count": 20,
   "metadata": {},
   "outputs": [
    {
     "name": "stdout",
     "output_type": "stream",
     "text": [
      "\\left(- C_{1} \\omega_{d} \\sin{\\left(\\omega_{d} t \\right)} + C_{1} \\sigma \\cos{\\left(\\omega_{d} t \\right)} + C_{2} \\omega_{d} \\cos{\\left(\\omega_{d} t \\right)} + C_{2} \\sigma \\sin{\\left(\\omega_{d} t \\right)}\\right) e^{\\sigma t}\n"
     ]
    }
   ],
   "source": [
    "print_latex(dx)"
   ]
  },
  {
   "cell_type": "code",
   "execution_count": null,
   "metadata": {},
   "outputs": [],
   "source": []
  }
 ],
 "metadata": {
  "kernelspec": {
   "display_name": "Python 3",
   "language": "python",
   "name": "python3"
  },
  "language_info": {
   "codemirror_mode": {
    "name": "ipython",
    "version": 3
   },
   "file_extension": ".py",
   "mimetype": "text/x-python",
   "name": "python",
   "nbconvert_exporter": "python",
   "pygments_lexer": "ipython3",
   "version": "3.8.3"
  }
 },
 "nbformat": 4,
 "nbformat_minor": 4
}
