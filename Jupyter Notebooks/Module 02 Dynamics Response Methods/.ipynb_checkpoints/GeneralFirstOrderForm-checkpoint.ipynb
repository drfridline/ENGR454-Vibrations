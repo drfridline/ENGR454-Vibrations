{
 "cells": [
  {
   "cell_type": "markdown",
   "metadata": {},
   "source": [
    "# General First Order Form\n",
    "Throughout this course, we will see many models of the form\n",
    "\n",
    "$$\\frac{dx}{dt} + ax = b$$\n",
    "\n",
    "where $a$ and $b$ are constants, and $a \\ne 0$.  Separation of variables can be used to solve such equations.  Performing a little algebra and you will see that separation of variables is possible\n",
    "\n",
    "$$dx = (b-ax)dt$$\n",
    "$$\\int_{x(0)}^{x(t)}\\frac{dx}{b-ax} = \\int_{0}^{t}dt$$\n",
    "\n",
    "or\n",
    "\n",
    "$$-\\frac{1}{a}\\left\\{\\ln[b-ax(t)]-\\ln[b-ax(0)]\\right\\} = t$$\n",
    "$$\\ln[b-ax(t)] = \\ln[b-ax(0)]-at = \\ln[b-ax(0)]+\\ln[e^{-at}] = \\ln\\left\\{e^{-at}[b-ax(0)]right\\}$$ \n",
    "$$b-ax(t)=e^{-at}[b-ax(0)]$$\n",
    "\n",
    "Solving for $x(t)$\n",
    "\n",
    "$$x(t) = \\frac{b}{a}+\\left[x(0)-\\frac{b}{a}\\right]e^{-at}$$\n",
    "\n",
    "or\n",
    "$$x(t) = x(0)e^{-at} + \\frac{b}{a}\\left(1-e^{-at}\\right)$$\n",
    "\n",
    "## Example\n",
    "Given the following values: $x(0) = 3$, $a = 2$, and $b = 20$, we can plot the response $x(t)$"
   ]
  },
  {
   "cell_type": "code",
   "execution_count": 6,
   "metadata": {},
   "outputs": [
    {
     "data": {
      "image/png": "[encoded data removed]",
      "text/plain": [
       "<Figure size 432x288 with 1 Axes>"
      ]
     },
     "metadata": {
      "needs_background": "light"
     },
     "output_type": "display_data"
    }
   ],
   "source": [
    "import numpy as np\n",
    "import matplotlib.pyplot as plt\n",
    "\n",
    "# Given conditions\n",
    "x0 = 3\n",
    "a = 2\n",
    "b = 20\n",
    "\n",
    "# Define a time array\n",
    "t = np.linspace(0,2,25)\n",
    "\n",
    "# Define the response array\n",
    "x = x0*np.exp(-a*t)+b/a*(1-np.exp(-a*t))\n",
    "\n",
    "# Plot the solutions\n",
    "fig = plt.figure()\n",
    "fig.suptitle('Solution of general first order equation.')\n",
    "ax = fig.add_subplot(111)\n",
    "ax.set_xlabel('time, $t$')\n",
    "ax.set_ylabel('$x(t)$')\n",
    "ax.set_ylim(0,12)\n",
    "ax.grid(True)\n",
    "ax.plot(t,x,label=r'$x(t)$');"
   ]
  }
 ],
 "metadata": {
  "kernelspec": {
   "display_name": "Python 3",
   "language": "python",
   "name": "python3"
  },
  "language_info": {
   "codemirror_mode": {
    "name": "ipython",
    "version": 3
   },
   "file_extension": ".py",
   "mimetype": "text/x-python",
   "name": "python",
   "nbconvert_exporter": "python",
   "pygments_lexer": "ipython3",
   "version": "3.7.6"
  }
 },
 "nbformat": 4,
 "nbformat_minor": 4
}
