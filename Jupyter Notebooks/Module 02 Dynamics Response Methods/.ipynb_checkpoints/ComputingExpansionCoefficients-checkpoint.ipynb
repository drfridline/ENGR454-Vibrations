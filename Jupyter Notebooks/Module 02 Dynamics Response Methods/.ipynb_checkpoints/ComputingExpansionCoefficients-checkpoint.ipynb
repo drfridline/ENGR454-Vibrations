{
 "cells": [
  {
   "cell_type": "markdown",
   "metadata": {},
   "source": [
    "# Computing Expansion Coefficients with Python\n",
    "You can use Python to easily compute the coefficients in the partial-fraction expansion. The appropriate Python/Scipy function is `residue`. Let $X(s)$ denote the transform. In the terminology of the `residue` function, the expansion coefficients are called the _residues_ and the factors of the denominator of $X(s)$ are called the _poles_. \n",
    "\n",
    "The poles include the characteristic roots of the model and any denominator roots introduced by the input function. If the order $m$ of the numerator of $X(s)$ is greater than the order $n$ of the denominator, the transform can be represented by a polynomial $K(s)$, called the _direct term_, plus a ratio of two polynomials where the denominator degree is greater than the numerator degree.\n",
    "\n",
    "For example,\n",
    "$$ X(s) = \\frac{6s^3+57s^2+120s+80}{s^2+9s+14} $$"
   ]
  },
  {
   "cell_type": "code",
   "execution_count": 1,
   "metadata": {},
   "outputs": [
    {
     "name": "stdout",
     "output_type": "stream",
     "text": [
      "[4. 5.]\n",
      "[-2. -7.]\n",
      "[6. 3.]\n"
     ]
    }
   ],
   "source": [
    "import numpy as np\n",
    "import scipy as sp\n",
    "import scipy.signal as signal\n",
    "r, p, k = signal.residue([6,57,120,80],[1,9,14])\n",
    "print(r)\n",
    "print(p)\n",
    "print(k)"
   ]
  },
  {
   "cell_type": "code",
   "execution_count": 2,
   "metadata": {},
   "outputs": [
    {
     "ename": "SyntaxError",
     "evalue": "invalid syntax (<ipython-input-2-97cadfc016b8>, line 6)",
     "output_type": "error",
     "traceback": [
      "\u001b[0;36m  File \u001b[0;32m\"<ipython-input-2-97cadfc016b8>\"\u001b[0;36m, line \u001b[0;32m6\u001b[0m\n\u001b[0;31m    print('k = '+str{k})\u001b[0m\n\u001b[0m                    ^\u001b[0m\n\u001b[0;31mSyntaxError\u001b[0m\u001b[0;31m:\u001b[0m invalid syntax\n"
     ]
    }
   ],
   "source": [
    "num = np.array([25])\n",
    "den = np.array([1, 4, 25])\n",
    "r, p, k = signal.residue(num, den)\n",
    "print('r = '+str(r))\n",
    "print('p = '+str(p))\n",
    "print('k = '+str(k))"
   ]
  },
  {
   "cell_type": "code",
   "execution_count": null,
   "metadata": {},
   "outputs": [],
   "source": []
  }
 ],
 "metadata": {
  "kernelspec": {
   "display_name": "Python 3",
   "language": "python",
   "name": "python3"
  },
  "language_info": {
   "codemirror_mode": {
    "name": "ipython",
    "version": 3
   },
   "file_extension": ".py",
   "mimetype": "text/x-python",
   "name": "python",
   "nbconvert_exporter": "python",
   "pygments_lexer": "ipython3",
   "version": "3.8.3"
  }
 },
 "nbformat": 4,
 "nbformat_minor": 4
}
