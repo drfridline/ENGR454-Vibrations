{
 "cells": [
  {
   "cell_type": "markdown",
   "metadata": {},
   "source": [
    "# Example: Hydraulic System Leakage\n",
    "An important principle of hydraulics is __Torricelli's Law__, which states that the flow rate of a liquid through an opening in a container is proportional to the square too of the height of the liquid surface above the opening.\n",
    "\n",
    "Consider the cylindrical liquid tank having with bottom area $A$ and liquid level $h$ measured from the bottom as shown.  The tank has a small hole in the bottom which lets liquid drain.\n",
    "\n",
    "<img src=\"Hydraulic.png\" width=300>\n",
    "\n",
    "According to _conservation of mass_, the liquid volume $V$ in the tank will change as\n",
    "\n",
    "$$\\frac{dV}{dt} = -k\\sqrt{h}.$$ \n",
    "\n",
    "Substituting an expression for the volume of the tank $V = Ah$,\n",
    "\n",
    "$$A\\frac{dh}{dt} = -k\\sqrt{h}.$$\n",
    "\n",
    "Rearranging and performing a _separation of variables_ assuming $t(0)=0$\n",
    "\n",
    "$$\\frac{dh}{dt} = -\\frac{k}{A}\\sqrt{h}$$,\n",
    "$$\\int_{h(0)}^{h(t)}\\frac{dh}{\\sqrt{h}} = -\\int_{0}^{t}\\frac{k}{A}dt$$\n",
    "$$2\\sqrt{h}\\Big|_{h(0)}^{h(t)} = -\\frac{k}{A}t$$\n",
    "\n",
    "Solving for the height $h(t)$\n",
    "\n",
    "$$h(t) = \\left[\\sqrt{h(0)}-\\frac{k}{2A}\\right]^2$$\n"
   ]
  },
  {
   "cell_type": "markdown",
   "metadata": {},
   "source": [
    "## Symbolic Integration\n",
    "If for some reason you don't remember how to integrate $1/\\sqrt{h}$, the Python `sympy` library can help you out.  See the code below to see how to let Python solve it for you."
   ]
  },
  {
   "cell_type": "code",
   "execution_count": 6,
   "metadata": {},
   "outputs": [
    {
     "ename": "IndexError",
     "evalue": "Replacement index 1 out of range for positional args tuple",
     "output_type": "error",
     "traceback": [
      "\u001b[0;31m---------------------------------------------------------------------------\u001b[0m",
      "\u001b[0;31mIndexError\u001b[0m                                Traceback (most recent call last)",
      "\u001b[0;32m<ipython-input-6-cff413da1c83>\u001b[0m in \u001b[0;36m<module>\u001b[0;34m\u001b[0m\n\u001b[1;32m      6\u001b[0m \u001b[0mf\u001b[0m \u001b[0;34m=\u001b[0m \u001b[0mintegrate\u001b[0m\u001b[0;34m(\u001b[0m\u001b[0;36m1\u001b[0m\u001b[0;34m/\u001b[0m\u001b[0msqrt\u001b[0m\u001b[0;34m(\u001b[0m\u001b[0mh\u001b[0m\u001b[0;34m)\u001b[0m\u001b[0;34m,\u001b[0m\u001b[0mh\u001b[0m\u001b[0;34m)\u001b[0m\u001b[0;34m\u001b[0m\u001b[0;34m\u001b[0m\u001b[0m\n\u001b[1;32m      7\u001b[0m \u001b[0mf\u001b[0m \u001b[0;34m=\u001b[0m \u001b[0;36m1\u001b[0m\u001b[0;34m/\u001b[0m\u001b[0msqrt\u001b[0m\u001b[0;34m(\u001b[0m\u001b[0mh\u001b[0m\u001b[0;34m)\u001b[0m\u001b[0;34m\u001b[0m\u001b[0;34m\u001b[0m\u001b[0m\n\u001b[0;32m----> 8\u001b[0;31m \u001b[0mdisplay\u001b[0m\u001b[0;34m(\u001b[0m\u001b[0mLatex\u001b[0m\u001b[0;34m(\u001b[0m\u001b[0;34m\"$$\\int\\frac{1}{\\sqrt{h}} = {}$$\"\u001b[0m\u001b[0;34m.\u001b[0m\u001b[0mformat\u001b[0m\u001b[0;34m(\u001b[0m\u001b[0mlatex\u001b[0m\u001b[0;34m(\u001b[0m\u001b[0mf\u001b[0m\u001b[0;34m.\u001b[0m\u001b[0mdoit\u001b[0m\u001b[0;34m(\u001b[0m\u001b[0;34m)\u001b[0m\u001b[0;34m)\u001b[0m\u001b[0;34m)\u001b[0m\u001b[0;34m)\u001b[0m\u001b[0;34m)\u001b[0m\u001b[0;34m\u001b[0m\u001b[0;34m\u001b[0m\u001b[0m\n\u001b[0m",
      "\u001b[0;31mIndexError\u001b[0m: Replacement index 1 out of range for positional args tuple"
     ]
    }
   ],
   "source": [
    "from sympy import *\n",
    "from IPython.display import display, Latex\n",
    "f, h = symbols('f h')\n",
    "init_printing()\n",
    "\n",
    "f = integrate(1/sqrt(h),h)\n",
    "result = \"$$\\int\\frac{1}{\\sqrt{h}} = {}$$\".format(latex(f.doit()))\n",
    "display(Latex(result))"
   ]
  },
  {
   "cell_type": "code",
   "execution_count": null,
   "metadata": {},
   "outputs": [],
   "source": []
  }
 ],
 "metadata": {
  "kernelspec": {
   "display_name": "Python 3",
   "language": "python",
   "name": "python3"
  },
  "language_info": {
   "codemirror_mode": {
    "name": "ipython",
    "version": 3
   },
   "file_extension": ".py",
   "mimetype": "text/x-python",
   "name": "python",
   "nbconvert_exporter": "python",
   "pygments_lexer": "ipython3",
   "version": "3.8.3"
  }
 },
 "nbformat": 4,
 "nbformat_minor": 4
}
