{
 "cells": [
  {
   "cell_type": "markdown",
   "metadata": {},
   "source": [
    "# Example: Simple Growth Model\n",
    "Many processes can be described by the __simple growth model__\n",
    "\n",
    "$$\\frac{dN}{dt} = kN$$\n",
    "\n",
    "where $k$ is a constant.  Solving by the method of __separation of variables__, we obtain\n",
    "\n",
    "$$\\int_{N(t_0)}^{N(t)} \\frac{dN}{N} = \\int_{t_0}^t kdt$$\n",
    "    \n",
    "which can now be easily solved as\n",
    "\n",
    "$$\\ln N\\Big|_{N(t_0)}^{N(t)} = \\ln N(t)-\\ln N(t_0) = \\ln\\frac{N(t)}{N(t_0)} = k\\left(t-t_0\\right)$$\n",
    "\n",
    "or\n",
    "\n",
    "$$\\frac{N(t)}{N(t_0)}=e^{k(t-t_0)}$$ \n",
    "\n",
    "Usually, but not always, one would set $t_0 = 0$ as the start of the process and rewrite the solution as\n",
    "\n",
    "$$N(t) = N(0)e^{kt}$$\n",
    "\n",
    "The solution obviously depends on the sign of the system constant $k$\n",
    "\n",
    "1. __Exponential Growth__ ($k>0$): often used to model population growth of animals and bacteria in an unrestricted environment, and the growth of investments when interest is compounded continuously.\n",
    "2. __Exponential Decay__ ($k<0$): used to model the decay of a radioactive substance and the speed of an object subjected to fluid drag force.\n",
    "\n",
    "We can plot the solution for a few values of $k$ to gain some insight into the response of various models."
   ]
  },
  {
   "cell_type": "code",
   "execution_count": 1,
   "metadata": {},
   "outputs": [],
   "source": [
    "import numpy as np\n",
    "from ipywidgets import interact\n",
    "import matplotlib.pyplot as plt\n",
    "%matplotlib inline"
   ]
  },
  {
   "cell_type": "code",
   "execution_count": 2,
   "metadata": {},
   "outputs": [],
   "source": [
    "def func_plot(k=0):\n",
    "    t = np.linspace(0, 1, 10)\n",
    "    fig = plt.figure()\n",
    "    fig.suptitle('Behavior of growth model for different values of $k$')\n",
    "    ax = fig.add_subplot(111)\n",
    "    ax.set_xlabel('Time, $t$')\n",
    "    ax.set_ylabel('Population, $N(t)$')\n",
    "    ax.set_ylim(0,2.5)\n",
    "    ax.grid(True)\n",
    "    plt.plot(t, np.exp(k*t))"
   ]
  },
  {
   "cell_type": "code",
   "execution_count": 3,
   "metadata": {},
   "outputs": [
    {
     "data": {
      "application/vnd.jupyter.widget-view+json": {
       "model_id": "66c0f694577345a9898d67e86b74f194",
       "version_major": 2,
       "version_minor": 0
      },
      "text/plain": [
       "interactive(children=(FloatSlider(value=0.0, description='k', max=0.95, min=-3.0), Output()), _dom_classes=('w…"
      ]
     },
     "metadata": {},
     "output_type": "display_data"
    }
   ],
   "source": [
    "interact(func_plot, k=(-3, 0.95, 0.1));"
   ]
  },
  {
   "cell_type": "code",
   "execution_count": null,
   "metadata": {},
   "outputs": [],
   "source": []
  }
 ],
 "metadata": {
  "kernelspec": {
   "display_name": "Python 3",
   "language": "python",
   "name": "python3"
  },
  "language_info": {
   "codemirror_mode": {
    "name": "ipython",
    "version": 3
   },
   "file_extension": ".py",
   "mimetype": "text/x-python",
   "name": "python",
   "nbconvert_exporter": "python",
   "pygments_lexer": "ipython3",
   "version": "3.8.3"
  }
 },
 "nbformat": 4,
 "nbformat_minor": 4
}
