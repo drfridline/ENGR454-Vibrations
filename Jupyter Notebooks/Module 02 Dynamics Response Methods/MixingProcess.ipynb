{
 "cells": [
  {
   "cell_type": "markdown",
   "metadata": {},
   "source": [
    "# Example: Mixing Process\n",
    "Pure water flows into a mixing tank of volume $V = 600$ m$^3$ at a constant volume rate of $\\left(q_w\\right)_i = 5$ m$^3$/s.  A solution with a salt concentration of $s_i$ kg//m$^3$ flows into the tank at a constant volume rate of $\\left(q_s\\right)_i = 2$ m$^3$/s.  Assume that the solution in the tank is well mixed so that the salt concentration in the tank is uniform.  Assume also that the salt dissolves completely so that the volume of the mixture remains the same.  \n",
    "\n",
    "The salt concentration $s_0$ kg/m$^3$ in the outflow is the same as the concentration in the tank.  The input is the concentration $s_i(t)$, whose value may change during the process, thus changing the value of $s_0$.  \n",
    "\n",
    "We wish to obtain a dynamic model of the concentration $s_0$.\n",
    "\n",
    "<img src=\"MixingProcess.png\" width=300>\n",
    "\n",
    "## Solution:\n",
    "Two mass species are conserved: water mass and salt mass.  The tank is always full, so the mass of water $m_w$ in the tank is constant, and thus conservation of water mass gives\n",
    "\n",
    "$$\\frac{dm_w}{dt} = \\rho_w\\left(q_{w}\\right)_i + \\rho_w\\left(q_s\\right)_i - \\rho_wq_o = 0$$"
   ]
  },
  {
   "cell_type": "code",
   "execution_count": null,
   "metadata": {},
   "outputs": [],
   "source": []
  }
 ],
 "metadata": {
  "kernelspec": {
   "display_name": "Python 3",
   "language": "python",
   "name": "python3"
  },
  "language_info": {
   "codemirror_mode": {
    "name": "ipython",
    "version": 3
   },
   "file_extension": ".py",
   "mimetype": "text/x-python",
   "name": "python",
   "nbconvert_exporter": "python",
   "pygments_lexer": "ipython3",
   "version": "3.7.6"
  }
 },
 "nbformat": 4,
 "nbformat_minor": 4
}
