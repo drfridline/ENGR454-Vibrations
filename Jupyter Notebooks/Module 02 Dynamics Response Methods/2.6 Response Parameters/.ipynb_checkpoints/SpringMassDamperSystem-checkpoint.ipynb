{
 "cells": [
  {
   "cell_type": "markdown",
   "metadata": {},
   "source": [
    "# Vibration Application: Spring-Mass System\n",
    "Consider the mechanical system with __mass__ $m$ resting on a surface with friction and acted upon by the action of a __spring__ of stiffness $k$.  The mass is initially set in motion with an __initial displacement__ $x(0)$ and __initial velocity__ $\\dot{x}(0)$.\n",
    "\n",
    "The friction is modeled as a __viscous damper__ element with __damping constant__ $b$.\n",
    "\n",
    "<img src=\"SpringMassDamper.png\" width=600>\n",
    "\n",
    "## Physical Law: Newton's Second Law\n",
    "From Newton's second law, we find\n",
    "\n",
    "$$ \\sum F_x = -b\\dot{x} - kx = m\\ddot{x} $$\n",
    "\n",
    "Resulting in the __governing equation__\n",
    "\n",
    "$$ m\\ddot{x} + b\\dot{x} + kx = 0 $$\n",
    "\n",
    "## Characteristic Equation\n",
    "The corresponding __characteristic equation__ is\n",
    "\n",
    "$$ ms^2 + bs + k = 0 $$\n",
    "\n",
    "which has __complex roots__ of\n",
    "\n",
    "$$ s_{1,2} = \\sigma \\pm j\\omega_d = -\\frac{b}{2m} \\pm \\sqrt{\\frac{b^2-4mk}{2m}} = -\\frac{b}{2m} \\pm j\\sqrt{\\frac{4mk-b^2}{2m}} = -\\frac{b}{2m} \\pm j\\sqrt{\\frac{k}{m} - \\left(\\frac{b}{2m}\\right)} $$\n",
    "\n",
    "So\n",
    "\n",
    "$$ \\sigma = -\\frac{b}{2m} \\qquad\\text{and}\\qquad \\omega_d = \\sqrt{\\frac{k}{m} - \\left(\\frac{b}{2m}\\right)^2} $$\n",
    "\n",
    "## Free-Response Solution\n",
    "Using the previously developed solution for the step response and setting $c = 0$ (no external load or free response) one finds\n",
    "\n",
    "$$ x(t) = e^{\\sigma t}\\left(C_1\\sin\\omega_dt + C_2\\cos\\omega_dt\\right) $$\n",
    "\n",
    "where we define the __damped natural frequency__ as\n",
    "\n",
    "$$ \\omega_d = \\omega_d = \\sqrt{\\frac{k}{m} - \\left(\\frac{b}{2m}\\right)^2} $$\n",
    "\n",
    "### Initial Conditions\n",
    "Applying the initial conditions $x(0)$ and $\\dot{x}(0)$ allows us to solve for the unknown constants $C_1$ and $C_2$ as\n",
    "\n",
    "$\n",
    "\\begin{align}\n",
    "    & x(0) = C_1\\sin(0) + C_2\\cos(0) && C_2 = x(0) \\\\\n",
    "    & \\dot{x}(0) = C_1\\omega_d\\cos(0) + C_1\\sigma\\sin(0) - C_2\\omega_d\\sin(0) + C_2\\sigma\\cos(0) && C_1 = \\frac{\\dot{x}(0)-x(0)\\sigma}{\\omega_d}\n",
    "\\end{align}\n",
    "$\n",
    "\n",
    "### Solution\n",
    "So the final free-response solution is\n",
    "\n",
    "$$ x(t) = e^{\\sigma t}\\left[x(0)\\cos\\omega_dt + \\frac{\\dot{x}(0)-x(0)\\sigma}{\\omega_d}\\sin\\omega_dt\\right] $$\n",
    "\n",
    "with\n",
    "$$ \\omega_d = \\sqrt{\\frac{k}{m} - \\left(\\frac{b}{2m}\\right)^2} $$\n",
    "\n",
    "## Plot of Response\n",
    "We can plot the solution by varying the input parameters $m$, $k$, $x(0)$, and $\\dot{x}(0)$ to examine the effect on the response of the system."
   ]
  },
  {
   "cell_type": "code",
   "execution_count": 18,
   "metadata": {},
   "outputs": [],
   "source": [
    "import numpy as np\n",
    "from ipywidgets import interact\n",
    "from IPython.display import display, Math\n",
    "import matplotlib.pyplot as plt\n",
    "%matplotlib inline"
   ]
  },
  {
   "cell_type": "markdown",
   "metadata": {},
   "source": [
    "### Function Definition\n",
    "The following function definition code is used to generate the response taking variable input for the system parameters of $m$ and $k$ as well as the initial conditions $x(0)$, and $\\dot{x}(0)$.\n",
    "\n",
    "The default values are: $m = b = k = x(0) = \\dot{x}(0) = 1$."
   ]
  },
  {
   "cell_type": "code",
   "execution_count": 19,
   "metadata": {},
   "outputs": [],
   "source": [
    "def spring_mass_damper(m=1,b=1,k=1,x0=1,v0=1):\n",
    "    sigma = -b/(2*m)\n",
    "    omega_d = np.sqrt(k/m-(b/(2*m))**2)\n",
    "    t = np.linspace(0, 10, 1001)\n",
    "    x = np.exp(sigma*t)*(x0*np.cos(omega_d*t)+(v0-x0*sigma)/omega_d*np.sin(omega_d*t))\n",
    "    fig = plt.figure()\n",
    "    fig.suptitle('Response of Spring-Mass-Damper System')\n",
    "    ax = fig.add_subplot(111)\n",
    "    ax.set_xlabel('time, $t$')\n",
    "    ax.set_ylabel('response, $x(t)$')\n",
    "    ax.set_ylim(-2,2)\n",
    "    ax.grid(True)\n",
    "    plt.plot(t,x)\n",
    "    display(Math(r'\\omega_d = {} ~rad/s'.format(round(omega_d,3))))"
   ]
  },
  {
   "cell_type": "markdown",
   "metadata": {},
   "source": [
    "### Interactive Plot\n",
    "Try making adjustments to the following sliders to see the affect on the response.  You should try adjusting a single slider at a time to fully understand how it affects the response. "
   ]
  },
  {
   "cell_type": "code",
   "execution_count": 20,
   "metadata": {},
   "outputs": [
    {
     "data": {
      "application/vnd.jupyter.widget-view+json": {
       "model_id": "0c320df433fe4cb19276459c2b057b95",
       "version_major": 2,
       "version_minor": 0
      },
      "text/plain": [
       "interactive(children=(FloatSlider(value=1.0, description='m', max=10.0, min=0.1), FloatSlider(value=1.0, descr…"
      ]
     },
     "metadata": {},
     "output_type": "display_data"
    }
   ],
   "source": [
    "interact(spring_mass_damper,m = (0.1,10,0.1), b=(0,10,0.1), k = (0.1,10,0.1), x0 = (0,1,0.1), v0 = (0,1,0.1));"
   ]
  },
  {
   "cell_type": "markdown",
   "metadata": {},
   "source": [
    "### Observations\n",
    "1. The response is constant amplitude and the amplitude is affected by the value of the initial conditions as well as the natural frequency.\n",
    "2. Adjusting the initial conditions has no effect on the natural frequency."
   ]
  }
 ],
 "metadata": {
  "kernelspec": {
   "display_name": "Python 3",
   "language": "python",
   "name": "python3"
  },
  "language_info": {
   "codemirror_mode": {
    "name": "ipython",
    "version": 3
   },
   "file_extension": ".py",
   "mimetype": "text/x-python",
   "name": "python",
   "nbconvert_exporter": "python",
   "pygments_lexer": "ipython3",
   "version": "3.8.3"
  }
 },
 "nbformat": 4,
 "nbformat_minor": 4
}
