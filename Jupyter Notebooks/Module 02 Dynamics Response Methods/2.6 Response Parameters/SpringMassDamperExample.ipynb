{
 "cells": [
  {
   "cell_type": "markdown",
   "metadata": {},
   "source": [
    "# Example: Spring-Mass-Damper System\n",
    "Consider the spring-mass-damper system shown where the mass $m = 1$ kg, damping constant $b = 6$ N$\\cdot$s/m, and spring constant $k = 25$ N/m.  The system is set in motion by an initial displacement $x(0) = 100$ mm and no initial velocity.\n",
    "\n",
    "<img src=\"SpringMassDamperExample.png\" width=200>\n",
    "\n",
    "1. Determine the natural frequency, damping ratio, damped natural frequency and time constant (if appropriate).\n",
    "2. Is the system overdamped, underdamped, critically damped, or undamped?\n",
    "3. Complete the provided Jupyter notebook to plot the response.  Does the response show oscillations?  If not, why? \n",
    "\n",
    "## Solution"
   ]
  },
  {
   "cell_type": "code",
   "execution_count": 1,
   "metadata": {},
   "outputs": [],
   "source": [
    "import numpy as np\n",
    "from IPython.display import display, Math\n",
    "import matplotlib.pyplot as plt\n",
    "%matplotlib inline"
   ]
  },
  {
   "cell_type": "markdown",
   "metadata": {},
   "source": [
    "#### <span style=\"color:blue\">1. Complete the following cell to define the system parameters `m`, `b`, `k`, `x0`, and `v0`</span>"
   ]
  },
  {
   "cell_type": "code",
   "execution_count": 2,
   "metadata": {},
   "outputs": [],
   "source": [
    "m = 1\n",
    "b = 6\n",
    "k = 25\n",
    "x0 = 0.1\n",
    "v0 = 0"
   ]
  },
  {
   "cell_type": "markdown",
   "metadata": {},
   "source": [
    "### Natural Frequency\n",
    "The natural frequency should be computed in the cell below as \n",
    "$$ \\omega_n = \\sqrt{\\frac{k}{m}} $$\n",
    "\n",
    "#### <span style=\"color:blue\">2. Complete the following cell to define the natural frequency `omega_n`</span>"
   ]
  },
  {
   "cell_type": "code",
   "execution_count": 3,
   "metadata": {},
   "outputs": [
    {
     "data": {
      "text/latex": [
       "$\\displaystyle \\omega_n = 5.0 ~rad/s$"
      ],
      "text/plain": [
       "<IPython.core.display.Math object>"
      ]
     },
     "metadata": {},
     "output_type": "display_data"
    }
   ],
   "source": [
    "omega_n = np.sqrt(k/m)\n",
    "display(Math(r'\\omega_n = {} ~rad/s'.format(round(omega_n,3))))"
   ]
  },
  {
   "cell_type": "markdown",
   "metadata": {},
   "source": [
    "### Damping Ratio\n",
    "The damping ratio should be computed in the cell below as\n",
    "$$ \\zeta = \\frac{b}{2\\sqrt{mk}} $$\n",
    "\n",
    "#### <span style=\"color:blue\">3. Complete the following cell to define the damping ratio `zeta`</span>"
   ]
  },
  {
   "cell_type": "code",
   "execution_count": 4,
   "metadata": {},
   "outputs": [
    {
     "data": {
      "text/latex": [
       "$\\displaystyle \\zeta = 0.6$"
      ],
      "text/plain": [
       "<IPython.core.display.Math object>"
      ]
     },
     "metadata": {},
     "output_type": "display_data"
    }
   ],
   "source": [
    "zeta = b/2/np.sqrt(m*k)\n",
    "display(Math(r'\\zeta = {}'.format(round(zeta,3))))"
   ]
  },
  {
   "cell_type": "markdown",
   "metadata": {},
   "source": [
    "### Damped Natural Frequency\n",
    "The damped natural frequency should be computed in the cell below as\n",
    "$$ \\omega_d = \\omega_n\\sqrt{1-\\zeta^2} $$\n",
    "\n",
    "#### <span style=\"color:blue\">4. Complete the following cell to define the damped natural frequency `omega_d`</span>"
   ]
  },
  {
   "cell_type": "code",
   "execution_count": 5,
   "metadata": {},
   "outputs": [
    {
     "data": {
      "text/latex": [
       "$\\displaystyle \\omega_d = 4.0 ~rad/s$"
      ],
      "text/plain": [
       "<IPython.core.display.Math object>"
      ]
     },
     "metadata": {},
     "output_type": "display_data"
    }
   ],
   "source": [
    "omega_d = omega_n*np.sqrt(1-zeta**2)\n",
    "display(Math(r'\\omega_d = {} ~rad/s'.format(round(omega_d,3))))"
   ]
  },
  {
   "cell_type": "markdown",
   "metadata": {},
   "source": [
    "### Time Constant\n",
    "The time constant should be computed in the cell below as\n",
    "$$ \\tau = \\frac{1}{\\zeta\\omega_n} $$\n",
    "\n",
    "#### <span style=\"color:blue\">5. Complete the following cell to define the time constant `tau`</span>"
   ]
  },
  {
   "cell_type": "code",
   "execution_count": 6,
   "metadata": {},
   "outputs": [
    {
     "data": {
      "text/latex": [
       "$\\displaystyle \\tau = 0.333$"
      ],
      "text/plain": [
       "<IPython.core.display.Math object>"
      ]
     },
     "metadata": {},
     "output_type": "display_data"
    }
   ],
   "source": [
    "tau = 1/zeta/omega_n\n",
    "display(Math(r'\\tau = {}'.format(round(tau,3))))"
   ]
  },
  {
   "cell_type": "markdown",
   "metadata": {},
   "source": [
    "### Response Plot\n",
    "#### <span style=\"color:blue\">6. Complete the following cell to define the time array `t` and response `x` and then run the cell to generate the plot.</span>"
   ]
  },
  {
   "cell_type": "code",
   "execution_count": 8,
   "metadata": {},
   "outputs": [
    {
     "data": {
      "image/png": "[encoded data removed]",
      "text/plain": [
       "<Figure size 432x288 with 1 Axes>"
      ]
     },
     "metadata": {
      "needs_background": "light"
     },
     "output_type": "display_data"
    }
   ],
   "source": [
    "sigma = -zeta*omega_n\n",
    "t = np.linspace(0,2,2001)\n",
    "x = np.exp(sigma*t)*(x0*np.cos(omega_d*t) + ((v0-x0*sigma)/omega_n)*np.sin(omega_d*t))\n",
    "fig = plt.figure()\n",
    "fig.suptitle('Response of Spring-Mass-Damper System')\n",
    "ax = fig.add_subplot(111)\n",
    "ax.set_xlabel('time, $t$')\n",
    "ax.set_ylabel('response, $x(t)$')\n",
    "ax.grid(True)\n",
    "plt.plot(t,x)\n",
    "\n",
    "# Display the result at t = 4 time constants\n",
    "t1 = 4*tau\n",
    "x1 = np.exp(sigma*t1)*(x0*np.cos(omega_d*t1) + ((v0-x0*sigma)/omega_n)*np.sin(omega_d*t1))\n",
    "plt.plot(t1,x1,'ko')\n",
    "\n",
    "ax.annotate(r'$x(4\\tau)$ = %0.4f mm' % (x1),xy=(t1,x1),xytext=(0.5,0.06),\n",
    "            arrowprops=dict(arrowstyle=\"->\",connectionstyle=\"angle,angleA=0,angleB=80,rad=20\"))\n",
    "\n",
    "fig.savefig('SpringMassDamperExample_Response.png',format='png');"
   ]
  },
  {
   "cell_type": "code",
   "execution_count": null,
   "metadata": {},
   "outputs": [],
   "source": []
  }
 ],
 "metadata": {
  "kernelspec": {
   "display_name": "Python 3",
   "language": "python",
   "name": "python3"
  },
  "language_info": {
   "codemirror_mode": {
    "name": "ipython",
    "version": 3
   },
   "file_extension": ".py",
   "mimetype": "text/x-python",
   "name": "python",
   "nbconvert_exporter": "python",
   "pygments_lexer": "ipython3",
   "version": "3.8.3"
  }
 },
 "nbformat": 4,
 "nbformat_minor": 4
}
