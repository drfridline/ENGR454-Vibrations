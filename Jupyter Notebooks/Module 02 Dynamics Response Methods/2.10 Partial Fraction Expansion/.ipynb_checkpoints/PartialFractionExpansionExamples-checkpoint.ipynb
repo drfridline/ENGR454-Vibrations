{
 "cells": [
  {
   "cell_type": "markdown",
   "metadata": {},
   "source": [
    "# Example: Partial Fraction Expansion\n",
    "Consider the __transfer function__ from which we previously computed the __partial-fraction expansion__ as\n",
    "\n",
    "$$ T(s) = \\frac{X(s)}{F(s)} = \\frac{8s + 13}{s^2 + 4s + 53} \\qquad T(s) = -\\frac{3}{7}\\frac{7}{(s+2)^2+7^2} + 8\\frac{s+2}{(s+2)^2+7^2} $$\n",
    "\n",
    "## Method 1: Use the `residual` Function\n",
    "Import all necessary libraries"
   ]
  },
  {
   "cell_type": "code",
   "execution_count": 19,
   "metadata": {},
   "outputs": [],
   "source": [
    "import numpy as np\n",
    "from scipy import signal"
   ]
  },
  {
   "cell_type": "markdown",
   "metadata": {},
   "source": [
    "Define the numerator and denominator of the transfer function."
   ]
  },
  {
   "cell_type": "code",
   "execution_count": 20,
   "metadata": {},
   "outputs": [],
   "source": [
    "num = np.array([8, 13])\n",
    "den = np.array([1, 4, 53])"
   ]
  },
  {
   "cell_type": "markdown",
   "metadata": {},
   "source": [
    "Compute and print out the residue, poles, and direct terms."
   ]
  },
  {
   "cell_type": "code",
   "execution_count": 21,
   "metadata": {},
   "outputs": [
    {
     "name": "stdout",
     "output_type": "stream",
     "text": [
      "r = [4.+0.21428571j 4.-0.21428571j]\n",
      "p = [-2.+7.j -2.-7.j]\n",
      "k = []\n"
     ]
    }
   ],
   "source": [
    "r, p, k = signal.residue(num, den)\n",
    "print('r = '+str(r))\n",
    "print('p = '+str(p))\n",
    "print('k = '+str(k))"
   ]
  },
  {
   "cell_type": "markdown",
   "metadata": {},
   "source": [
    "## Method 2: Use the `apart` Function\n",
    "Import all necessary libraries."
   ]
  },
  {
   "cell_type": "code",
   "execution_count": 22,
   "metadata": {},
   "outputs": [],
   "source": [
    "import sympy as sym\n",
    "from IPython.display import display, Latex\n",
    "T, T2, s = sym.symbols('T T2 s')\n",
    "sym.init_printing()"
   ]
  },
  {
   "cell_type": "markdown",
   "metadata": {},
   "source": [
    "Define the transfer function."
   ]
  },
  {
   "cell_type": "code",
   "execution_count": 23,
   "metadata": {},
   "outputs": [
    {
     "data": {
      "text/latex": [
       "$$T(s) = \\frac{8 s + 13}{s^{2} + 4 s + 53}$$"
      ],
      "text/plain": [
       "<IPython.core.display.Latex object>"
      ]
     },
     "metadata": {},
     "output_type": "display_data"
    }
   ],
   "source": [
    "T = (8*s+13)/(s**2+4*s+53)\n",
    "result = \"$$T(s) = {}$$\".format(sym.latex(T.doit()))\n",
    "display(Latex(result))"
   ]
  },
  {
   "cell_type": "markdown",
   "metadata": {},
   "source": [
    "Compute the partial fraction expansion symbolically."
   ]
  },
  {
   "cell_type": "code",
   "execution_count": 24,
   "metadata": {},
   "outputs": [
    {
     "data": {
      "text/latex": [
       "$$T(s) = \\frac{8 s + 13}{s^{2} + 4 s + 53}$$"
      ],
      "text/plain": [
       "<IPython.core.display.Latex object>"
      ]
     },
     "metadata": {},
     "output_type": "display_data"
    }
   ],
   "source": [
    "T2 = sym.apart(T)\n",
    "result = \"$$T(s) = {}$$\".format(sym.latex(T2.doit()))\n",
    "display(Latex(result))"
   ]
  },
  {
   "cell_type": "code",
   "execution_count": null,
   "metadata": {},
   "outputs": [],
   "source": []
  }
 ],
 "metadata": {
  "kernelspec": {
   "display_name": "Python 3",
   "language": "python",
   "name": "python3"
  },
  "language_info": {
   "codemirror_mode": {
    "name": "ipython",
    "version": 3
   },
   "file_extension": ".py",
   "mimetype": "text/x-python",
   "name": "python",
   "nbconvert_exporter": "python",
   "pygments_lexer": "ipython3",
   "version": "3.8.3"
  }
 },
 "nbformat": 4,
 "nbformat_minor": 4
}
