{
 "cells": [
  {
   "cell_type": "markdown",
   "metadata": {},
   "source": [
    "# Case Study: Motion Control\n",
    "(Example 1.5 from Palm, W., *System Dynamics*)\n",
    "\n",
    "*Motion-control engineering* is a specialty within the field of automation and involves the design of systems for controlling position or speed of machines.  The man components of such systems are\n",
    "\n",
    "- a motion controller (such as electronics or a computer),\n",
    "- a power amplifier, and \n",
    "- an actuator or prime mover to do the work.\n",
    "\n",
    "Typical actuators include hydraulic or pneumatic pistons and electric motors.  Motion control is widely used in robotics and computer numerically controlled (CNC) machine tools, and in assumbly lines for textiles, packaging, and printing.\n",
    "\n",
    "Various kinds of mechanical components are used with the actuator to achieve the desired motion.  These include gears, power screws, and belts or chains.  A typical motion control system designed to translate an object (the \"load\") over a certain distance with a desired speed is shown below.\n",
    "\n",
    "<img src=\"MechanicalDrive.png\" width=300 />\n",
    "\n",
    "## Simple Model\n",
    "A simple model of the system can be realized by assuming only a single rotational object (called the \"equivalent load\" or \"reflected load\") is connected to the motor shaft.  If we consider the dynamics of a rigid body whose motion is contrained to allow only rotation about an axis through a nonacceleration point, then from basic physics we know that the equation of motion found from Newton's Second Law applied to rotational motion\n",
    "\n",
    "<img src=\"MechanicalDriveFBD.png\" width=200 /> \n",
    "\n",
    "$$I\\frac{d\\omega}{dt} = I\\dot{\\omega} = M$$\n",
    "\n",
    "where $\\omega$ is the angular velocity of the mass about an axis through a point fixed in an inertial reference frame and attached to the body (or the body extended), $I$ is the mass moment of inertia of the body about that point, and $M$ is the sum of the moments applied to the body about that point.\n",
    "\n",
    "## Constant Torque Solution\n",
    "The figure below illustrates a basic example of motion control where a more supplies a torque $T$ to an ovject, called the \"load\", whose inertia is $I_L$.  The rotating part of the motor is called the \"armature\" and has an inertia $I_m$.  If the shaft connecting the motor to the load does not twist, then the morot and load rotate at the same speed $\\omega$ and the combined inertia of the system will be the sum\n",
    "\n",
    "$$I = I_m + I_S + I_L$$\n",
    "\n",
    "where $I_m$, $I_S$, and $I_L$ are the inertias of the motor, shaft, and load, respectively.  The equation of motion is given by\n",
    "\n",
    "$$(I_m + I_S + I_L)\\dot{\\omega} = T \\qquad\\text{or}\\qquad I\\dot{\\omega} = T$$\n",
    "\n",
    "<img src=\"MechanicalDriveConstantTorque.png\" width=300 /> \n",
    "\n",
    "### Problem: \n",
    "Obtain the speed and displacement as functions of time.\n",
    "\n",
    "### Solution:\n",
    "If the motor torque is constant, we can solve the equation for the speed and the angular displacement as functions of time, as follows:\n",
    "\n",
    "$$\\omega(t) = \\int_0^t \\dot{\\omega}(t)dt + \\omega(0) = \\int_0^t\\frac{T}{I}dt + \\omega(0) = \\frac{T}{I}t + \\omega(0) $$\n",
    "\n",
    "$$\\theta(t) = \\int_0^t \\omega(t)dt + \\theta(0) = \\int_0^t\\left[\\frac{T}{I}t + \\omega(0)\\right]dt = \\frac{T}{I}\\frac{t^2}{2} + \\omega(0)t + \\theta(0)$$\n",
    "\n",
    "If the system starts from rest at $\\theta(0) = 0$, then $\\omega(0) = 0$, and\n",
    "\n",
    "$$\\omega(t) = \\frac{T}{I}t, \\qquad \\theta(t) = \\frac{T}{I}\\frac{t^2}{2}$$\n",
    "\n",
    "So a constant applied torque produces a linear velocity profile and a parabolic displacement profile.  Let's plot everthing to see this."
   ]
  },
  {
   "cell_type": "code",
   "execution_count": 1,
   "metadata": {},
   "outputs": [
    {
     "data": {
      "image/png": "[encoded data removed]",
      "text/plain": [
       "<Figure size 432x288 with 1 Axes>"
      ]
     },
     "metadata": {
      "needs_background": "light"
     },
     "output_type": "display_data"
    }
   ],
   "source": [
    "import numpy as np\n",
    "import matplotlib.pyplot as plt\n",
    "import matplotlib as mpl\n",
    "%matplotlib inline\n",
    "\n",
    "t = np.linspace(0,1,10)\n",
    "T = np.ones(10)\n",
    "omega = t\n",
    "theta = 0.5*t**2\n",
    "\n",
    "fig = plt.figure()\n",
    "fig.suptitle('Torque, velocity, and displacement vs time')\n",
    "ax = fig.add_subplot(111)\n",
    "ax.set_xlabel('time')\n",
    "ax.set_ylabel('$T$, $\\omega$, and $\\theta$')\n",
    "ax.grid(True)\n",
    "ax.plot(t,T,label=r'torque')\n",
    "ax.plot(t,omega,label=r'velocity')\n",
    "ax.plot(t,theta,label=r'displacement')\n",
    "ax.legend();"
   ]
  },
  {
   "cell_type": "markdown",
   "metadata": {},
   "source": [
    "## Trapezoidal Velocity Profile\n",
    "In many motion-control applications we want to accelerate the system to a desired speed and run it at that speed for some time before deceleerating to a stop similar to that shown below.\n",
    "\n",
    "<img src=\"TrapezoidSpeedProfile.png\" width=300 /> \n",
    "\n",
    "The constant-speed phase of the profile is called the *slew* phase.  An example requiring a slew phase of specific duration and speed is a conveyor system in a manufacturing line, in which the item being worked on must move at a constant speed for a specified time while some process is applied, such as painting or welding.  The speed profile can be specified in terms of rotational motor speed $\\omega$ or in terms of translational speed $v$ of a load.\n",
    "\n",
    "In other applications, the duration and speed of the slew phase is not specified, but we want the system to move (or rotate) a specified distance (or angle) by the end o one cycle.  An example of this is a robot arm link that must move through a specified angle.  The acceleration and deceleration times, and the duration and speed of the slew phase must be computed to achieve the desired distance or angle.  Often the profile is followed by a zero-speed phase enable the motor to cool before beginning the next cycle.  The trapezoidal profile assumes that the system begins and ends at rest.\n",
    "\n",
    "### Design Problem:\n",
    "The available motor torque is always limited, and the manufacturer will specify:\n",
    "\n",
    "1. **Maximum Available Torque** $T_{max}$: the torque that a motor can provide for a short time.\n",
    "2. **Rated Continuous Torque** or **Duty Cycle Torque**: the torque the motor can provide continuously without being damaged, for example, by overheating.\n",
    "\n",
    "The designer will need to compute the average torque required by the application using the **root mean square** method as follows.  The profile must not require an average torque greater than the rated continuous torque.  The root mean square is defined as\n",
    "\n",
    "$$ T_{rms} = \\sqrt{\\frac{1}{t_f}\\int_0^{t_f}T^2(t)dt} $$\n",
    "\n",
    "Thus, because the squared torque, the rms average gives equal weight to postive and negative values of torque."
   ]
  },
  {
   "cell_type": "markdown",
   "metadata": {},
   "source": [
    "## Example: Maximum Versus Average Required Torque\n",
    "### Problem Statement:\n",
    "Assume a motor control system with the following mass properties\n",
    "\n",
    "$I_m = 0.003$ kg-m$^2, \\qquad I_S = 0.001$ kg-m$^2, \\qquad I_L = 0.006$  kg-m$^2$\n",
    "\n",
    "We wish to find the required torque needed to achieve a trapezoidal velocity profile with \n",
    "\n",
    "$t_1 = 0.5$ s, $\\qquad t_2 = 2.5$ s, $\\qquad t_f = 3$ s\n",
    "\n",
    "and a slew speed of $\\omega = $ 150 rad/s."
   ]
  },
  {
   "cell_type": "markdown",
   "metadata": {},
   "source": [
    "### Solution:\n",
    "We will start by importing a predefined Python function to generate the trapezoidal velocity profile.  If you have not already done so, download the `trapezoid.py` Python file containing the function definition and save it to your current working directory.  Take a look at the function to become familiar with what it is doing.\n",
    "\n",
    "We will import the module containing the function, set the time and velocity parameters and call the function to generate an array of values defining the trapezoid.  A plot of the function will verify that it produces the desired results."
   ]
  },
  {
   "cell_type": "code",
   "execution_count": 2,
   "metadata": {},
   "outputs": [
    {
     "data": {
      "image/png": "[encoded data removed]",
      "text/plain": [
       "<Figure size 432x288 with 1 Axes>"
      ]
     },
     "metadata": {
      "needs_background": "light"
     },
     "output_type": "display_data"
    }
   ],
   "source": [
    "import trapezoid as tz\n",
    "t1 = 0.5\n",
    "t2 = 2.5\n",
    "tf = 3.0\n",
    "v = 150\n",
    "t, omega = tz.TrapezoidalProfile(t1,t2,tf,v)\n",
    "\n",
    "fig = plt.figure()\n",
    "fig.suptitle('Velocity vs Time')\n",
    "ax = fig.add_subplot(111)\n",
    "ax.set_xlabel('time [s]')\n",
    "ax.set_ylabel('Velocity, $\\omega$ [rad/s]')\n",
    "ax.grid(True)\n",
    "ax.plot(t,omega,label=r'velocity')\n",
    "ax.legend();"
   ]
  },
  {
   "cell_type": "markdown",
   "metadata": {},
   "source": [
    "### Required Torque Calculation:\n",
    "The required torque is $T = I\\dot{\\omega}$ where $\\dot{\\omega}$ comes from the slope of the slope of the velocity curve.  We can use a NumPy function `diff()` to numerically take the derivative of the trapezoidal velocity profile."
   ]
  },
  {
   "cell_type": "code",
   "execution_count": 16,
   "metadata": {},
   "outputs": [],
   "source": [
    "I_m = 0.003\n",
    "I_S = 0.001\n",
    "I_L = 0.006\n",
    "I = I_m + I_S + I_L\n",
    "dwdt = np.diff(omega)/np.diff(t)\n",
    "T = I*dwdt"
   ]
  },
  {
   "cell_type": "markdown",
   "metadata": {},
   "source": [
    "### Maximum Required Torque:\n",
    "The maximum required torque, $T_{max}$ is found using the NumPy `max()` function."
   ]
  },
  {
   "cell_type": "code",
   "execution_count": 23,
   "metadata": {},
   "outputs": [
    {
     "name": "stdout",
     "output_type": "stream",
     "text": [
      "T_max = 3.0 N-m\n"
     ]
    }
   ],
   "source": [
    "T_max = np.max(T)\n",
    "print('T_max =',T_max,'N-m')"
   ]
  },
  {
   "cell_type": "markdown",
   "metadata": {},
   "source": [
    "### RMS Torque:\n",
    "The rms average torque can be calculated by numerically integrating the torque array using the NumPy `trapz()` function for the trapezoidal numerical integration method.\n",
    "\n",
    "$$ T_{rms} = \\sqrt{\\frac{1}{t_f}\\int_0^{t_f}T^2(t)dt} $$\n",
    "\n",
    "**Notes:**\n",
    "\n",
    "1. We first need to construct a piecewise torque array and time array over the entire time duration.\n",
    "2. We can then numerically integrate the piecewise torque array."
   ]
  },
  {
   "cell_type": "code",
   "execution_count": 24,
   "metadata": {},
   "outputs": [
    {
     "data": {
      "image/png": "[encoded data removed]",
      "text/plain": [
       "<Figure size 432x288 with 1 Axes>"
      ]
     },
     "metadata": {
      "needs_background": "light"
     },
     "output_type": "display_data"
    }
   ],
   "source": [
    "# Time array\n",
    "dt = 1e-06     # Define a very small time duration about which we will use to define the \"jumps\"\n",
    "t = np.array([0, t1-dt, t1+dt, t2-dt, t2+dt, tf])\n",
    "\n",
    "# Torque array\n",
    "T_0 = T[0]\n",
    "T_1 = T[1]\n",
    "T_2 = T[2]\n",
    "Torque = np.array([T_0, T_0, T_1, T_1, T_2, T_2])\n",
    "\n",
    "fig = plt.figure()\n",
    "fig.suptitle('Torque Profile')\n",
    "ax = fig.add_subplot(111)\n",
    "ax.set_xlabel('time')\n",
    "ax.set_ylabel('torque')\n",
    "ax.grid(True)\n",
    "ax.plot(t,Torque,label=r'torque')\n",
    "ax.legend();\n",
    "\n",
    "TSquared = np.square(Torque)                    # Square the torque array\n",
    "T_rms = 1/tf*np.trapz(TSquared,x=t)"
   ]
  },
  {
   "cell_type": "code",
   "execution_count": 25,
   "metadata": {},
   "outputs": [
    {
     "name": "stdout",
     "output_type": "stream",
     "text": [
      "The rms torque, T_rms =  1.7321 N-m\n"
     ]
    }
   ],
   "source": [
    "T_rms = T_rms**0.5\n",
    "print('The rms torque, T_rms = ',round(T_rms,4),'N-m')"
   ]
  },
  {
   "cell_type": "markdown",
   "metadata": {},
   "source": [
    "**Note:** The rms torque should always be less than the maximum torque."
   ]
  },
  {
   "cell_type": "markdown",
   "metadata": {},
   "source": [
    "## Example: Include Friction Effects\n",
    "Suppose now the load is acted on by a torque $T_d = 2$ N-m caused by Coulomb (dry) friction.  We wish to recalculate the maximum and rms torques."
   ]
  },
  {
   "cell_type": "markdown",
   "metadata": {},
   "source": [
    "### Solution:\n",
    "The equation of motion is now\n",
    "$$ I\\dot{\\omega} = T - T_d, \\qquad \\omega > 0 $$\n",
    "\n",
    "So that\n",
    "$$ T = I\\dot{\\omega} + T_d $$\n",
    "\n",
    "and we will recompute the torque profile with the additional friction torque."
   ]
  },
  {
   "cell_type": "code",
   "execution_count": 21,
   "metadata": {},
   "outputs": [
    {
     "name": "stdout",
     "output_type": "stream",
     "text": [
      "The rms torque, T_rms =  2.6457513110645907\n"
     ]
    },
    {
     "data": {
      "image/png": "[encoded data removed]",
      "text/plain": [
       "<Figure size 432x288 with 1 Axes>"
      ]
     },
     "metadata": {
      "needs_background": "light"
     },
     "output_type": "display_data"
    }
   ],
   "source": [
    "T_d = 2\n",
    "Torque = T_d + Torque\n",
    "fig = plt.figure()\n",
    "fig.suptitle('Torque Profile')\n",
    "ax = fig.add_subplot(111)\n",
    "ax.set_xlabel('time')\n",
    "ax.set_ylabel('torque')\n",
    "ax.grid(True)\n",
    "ax.plot(t,Torque,label=r'torque')\n",
    "ax.legend();\n",
    "\n",
    "TSquared = np.square(Torque)                    # Square the torque array\n",
    "T_rms = 1/tf*np.trapz(TSquared,x=t)\n",
    "T_rms = T_rms**0.5\n",
    "print('The rms torque, T_rms = ',T_rms)"
   ]
  },
  {
   "cell_type": "markdown",
   "metadata": {},
   "source": [
    "Notice you should find a higher torque needed to overcome the effect of friction."
   ]
  }
 ],
 "metadata": {
  "kernelspec": {
   "display_name": "Python 3",
   "language": "python",
   "name": "python3"
  },
  "language_info": {
   "codemirror_mode": {
    "name": "ipython",
    "version": 3
   },
   "file_extension": ".py",
   "mimetype": "text/x-python",
   "name": "python",
   "nbconvert_exporter": "python",
   "pygments_lexer": "ipython3",
   "version": "3.7.6"
  }
 },
 "nbformat": 4,
 "nbformat_minor": 4
}
