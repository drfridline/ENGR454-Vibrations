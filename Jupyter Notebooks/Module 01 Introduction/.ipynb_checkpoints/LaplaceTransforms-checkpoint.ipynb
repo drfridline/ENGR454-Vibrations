{
 "cells": [
  {
   "cell_type": "markdown",
   "metadata": {},
   "source": [
    "# Laplace Transforms with Python\n",
    "The SymPy package that has symbolic math functions that are helpful for symbolic transform method solutions to linear differential equations.  Some useful functions include:\n",
    "\n",
    "1. Laplace transform: `laplace_transform`\n",
    "2. Inverse Laplace transform: `inverse_laplace_transform`\n",
    "3. Partial fraction expansion: `apart`\n",
    "4. Polynomial expansion: `expand`, and \n",
    "5. Polynomial roots: `roots`"
   ]
  },
  {
   "cell_type": "markdown",
   "metadata": {},
   "source": [
    "## Import SymPy Libraries\n",
    "We start by importing all of the appropriate SymPy libraries and sub-libraries."
   ]
  },
  {
   "cell_type": "code",
   "execution_count": 1,
   "metadata": {},
   "outputs": [],
   "source": [
    "# from matplotlib import style\n",
    "import sympy as sym\n",
    "from sympy.abc import s,t,x,y,z\n",
    "from sympy.integrals import laplace_transform\n",
    "from sympy.integrals import inverse_laplace_transform\n",
    "from sympy.plotting import plot as plot\n",
    "sym.init_printing(use_unicode=True)"
   ]
  },
  {
   "cell_type": "markdown",
   "metadata": {},
   "source": [
    "## Define a Simple Function and Find the Laplace Transform\n",
    "We can check some basic functionality by defining a function of time\n",
    "$$ x(t) = 5t $$\n",
    "which has as its Laplace transform (*found by consulting a table of Laplace transforms*)\n",
    "$$ X(s) = \\mathcal{L}\\left[x(t)\\right] = \\frac{5}{s^2} $$"
   ]
  },
  {
   "cell_type": "code",
   "execution_count": 2,
   "metadata": {},
   "outputs": [
    {
     "name": "stdout",
     "output_type": "stream",
     "text": [
      "X(s) =  5/s**2\n"
     ]
    }
   ],
   "source": [
    "x = 5*t\n",
    "X = laplace_transform(x,t,s)\n",
    "print('X(s) = ',X[0])"
   ]
  },
  {
   "cell_type": "markdown",
   "metadata": {},
   "source": [
    "**Note**: the Laplace transform of the function is stored in a tuple (a three element vector) with the first component `X[0]` holding the actual transform.  Remember Python uses zero-based vectors."
   ]
  },
  {
   "cell_type": "markdown",
   "metadata": {},
   "source": [
    "Let's now take the inverse Laplace transform to be sure and recover the original function."
   ]
  },
  {
   "cell_type": "code",
   "execution_count": 3,
   "metadata": {},
   "outputs": [
    {
     "name": "stdout",
     "output_type": "stream",
     "text": [
      "x(t) =  5*t*Heaviside(t)\n"
     ]
    }
   ],
   "source": [
    "x1 = inverse_laplace_transform(X[0],s,t)\n",
    "print('x(t) = ',x1)"
   ]
  },
  {
   "cell_type": "markdown",
   "metadata": {},
   "source": [
    "What exactly is this `Heaviside()` function?  Let's plot it to see and also verify that the inverse Laplace transform was taken correctly and recovers the original function."
   ]
  },
  {
   "cell_type": "code",
   "execution_count": 24,
   "metadata": {},
   "outputs": [
    {
     "data": {
      "image/png": "[encoded data removed]",
      "text/plain": [
       "<Figure size 432x288 with 1 Axes>"
      ]
     },
     "metadata": {
      "needs_background": "light"
     },
     "output_type": "display_data"
    }
   ],
   "source": [
    "import numpy as np\n",
    "import matplotlib.pyplot as plt\n",
    "import matplotlib as mpl\n",
    "%matplotlib inline\n",
    "\n",
    "t = np.linspace(0,1,10)\n",
    "theta = np.heaviside(t,0)\n",
    "x = 5*t*theta\n",
    "\n",
    "fig = plt.figure()\n",
    "fig.suptitle('Laplace Transform Demonstration')\n",
    "ax = fig.add_subplot(111)\n",
    "ax.set_xlabel('$f(t)$')\n",
    "ax.set_ylabel('$t$')\n",
    "ax.grid(True)\n",
    "ax.plot(t,x,label=r'$5t\\theta(t)$')\n",
    "ax.plot(t,theta,label=r'$\\theta(t)$')\n",
    "ax.legend();"
   ]
  },
  {
   "cell_type": "markdown",
   "metadata": {},
   "source": [
    "## Partial Fraction Expansion\n",
    "We can use SymPy to also compute partial fraction expansions of the Laplace transforms of functions which can help when it comes time to invert the transform back into the time domain.\n",
    "\n",
    "For instance, take the following function\n",
    "$$ X(s) = \\frac{5(s+1)}{(s+3)^2} $$\n",
    "\n",
    "from which we wish to invert using a table of Laplace transforms.  So we first need to perform a partial fraction expansion."
   ]
  },
  {
   "cell_type": "code",
   "execution_count": 19,
   "metadata": {},
   "outputs": [
    {
     "name": "stdout",
     "output_type": "stream",
     "text": [
      "G =  5/(s + 3) - 10/(s + 3)**2\n"
     ]
    }
   ],
   "source": [
    "X = 5*(s+1)/(s+3)**2\n",
    "G = sym.apart(X)\n",
    "print('G = ',G)"
   ]
  },
  {
   "cell_type": "markdown",
   "metadata": {},
   "source": [
    "## Use Laplace Transforms to Solve a Linear Differential Equation\n",
    "Consider solving the linear differential equation\n",
    "$$ 2\\ddot{x} + 2\\dot{x} + 5x = 0 $$\n",
    "\n",
    "with\n",
    "$x(0) = x_0 = 1$ and $\\dot{x}(0) = v_0 = 0$ are the initial conditions.\n",
    "\n",
    "Taking the Laplace transform\n",
    "$$ 2\\left[s^2X(s)-sx_0 - v_0\\right] + 2\\left[sX(s)- x_0\\right] + 5X(s) = 0$$\n",
    "$$ \\left[2s^2 + 2s + 5\\right]X(s) = 2(x_0s + v_0-x_0) $$\n",
    "$$ X(s) = \\frac{2(x_0s + v_0-x_0)}{2s^2 + 2s + 5} $$"
   ]
  },
  {
   "cell_type": "markdown",
   "metadata": {},
   "source": [
    "Substituting in the initial conditions\n",
    "$$ X(s) = \\frac{2(s-1)}{2s^2+2s+5} $$"
   ]
  },
  {
   "cell_type": "markdown",
   "metadata": {},
   "source": [
    "First define the $X(s)$"
   ]
  },
  {
   "cell_type": "code",
   "execution_count": 20,
   "metadata": {},
   "outputs": [
    {
     "name": "stdout",
     "output_type": "stream",
     "text": [
      "X =  (2*s - 2)/(2*s**2 + 2*s + 5)\n"
     ]
    }
   ],
   "source": [
    "X = 2*(s-1)/(2*s**2+2*s+5)\n",
    "print('X = ',X)"
   ]
  },
  {
   "cell_type": "markdown",
   "metadata": {},
   "source": [
    "Notice that the denominator of $X(s)$ isn't easily factorable.  In fact, if we use the symbolic library to solve for the roots, one can see that the roots are complex conjugates."
   ]
  },
  {
   "cell_type": "code",
   "execution_count": 21,
   "metadata": {},
   "outputs": [
    {
     "name": "stdout",
     "output_type": "stream",
     "text": [
      "s =  {-1/2 - 3*I/2: 1, -1/2 + 3*I/2: 1}\n"
     ]
    }
   ],
   "source": [
    "roots = sym.roots(sym.denom(X))\n",
    "print('s = ',roots)"
   ]
  },
  {
   "cell_type": "markdown",
   "metadata": {},
   "source": [
    "Since the denominator cannot be factored into rational roots, we will need to take the inverse Laplace transform directoy to obtain $x(t)$"
   ]
  },
  {
   "cell_type": "code",
   "execution_count": 22,
   "metadata": {},
   "outputs": [
    {
     "name": "stdout",
     "output_type": "stream",
     "text": [
      "x(t) =  (-sin(3*t/2) + cos(3*t/2))*exp(-t/2)*Heaviside(t)\n"
     ]
    },
    {
     "data": {
      "image/png": "[encoded data removed]",
      "text/plain": [
       "<Figure size 432x288 with 1 Axes>"
      ]
     },
     "metadata": {},
     "output_type": "display_data"
    }
   ],
   "source": [
    "style.use('seaborn-whitegrid')\n",
    "x = inverse_laplace_transform(X,s,t)\n",
    "print('x(t) = ',x)\n",
    "p = symplot(x,(t,0.0001,10),line_color='b',show=False)\n",
    "p.show()"
   ]
  },
  {
   "cell_type": "code",
   "execution_count": null,
   "metadata": {},
   "outputs": [],
   "source": []
  }
 ],
 "metadata": {
  "kernelspec": {
   "display_name": "Python 3",
   "language": "python",
   "name": "python3"
  },
  "language_info": {
   "codemirror_mode": {
    "name": "ipython",
    "version": 3
   },
   "file_extension": ".py",
   "mimetype": "text/x-python",
   "name": "python",
   "nbconvert_exporter": "python",
   "pygments_lexer": "ipython3",
   "version": "3.7.6"
  }
 },
 "nbformat": 4,
 "nbformat_minor": 4
}
