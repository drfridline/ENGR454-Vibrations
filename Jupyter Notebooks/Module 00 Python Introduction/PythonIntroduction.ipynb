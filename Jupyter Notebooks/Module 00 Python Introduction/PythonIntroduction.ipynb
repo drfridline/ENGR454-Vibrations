{
 "cells": [
  {
   "cell_type": "markdown",
   "metadata": {},
   "source": [
    "# Jupyter/Python Introduction\n",
    "This notebook provides an introduction or review of Python and Jupyter notebooks to enable students to perform simple calculations and plotting as part of the supplemental.\n",
    "\n",
    "## Table of Contents\n",
    "1. <a href='#Introduction to Python and Jupyter'>Python</a>\n",
    "2. <a href='#Installation'>Installation</a>\n",
    "3. <a href='#Getting Started'>Getting Started</a>\n",
    "4. <a href='#The JupyterLab Interface'>The JupyterLab Interface</a>\n",
    "5. <a href='#The Jupyter Notebook User Interface'>The Jupyter Notebook User Interface</a>\n",
    "6. <a href='#Basic Calculations'>Basic Calculations in Python</a>\n",
    "7. <a href='#Assignment Statements'>Assignment of Variables</a>\n",
    "8. <a href='#External Libraries'>External Libraries</a>\n",
    "9. <a href='#Numerical Array Variables'>Numerical Array Variables</a>\n",
    "10. <a href='#Special Array Functions'>Special Array Functions</a>\n",
    "11. <a href='#Mathematical Functions'>Mathematical Functions</a>\n",
    "12. <a href='#Linear Algebra'>Linear Algebra (Matrix Math)</a>\n",
    "13. <a href='#Importing Data and Plotting'>Importing Data and Plotting</a>\n",
    "14. <a href='#References'>References</a>\n",
    "\n",
    "## What is Python? <a id='Python'></a>\n",
    "Python is an interpreted, high-level, general-purpose programming language with a design philosophy that enphasizes code readability.  Python is often used as a \"scripting\" language for web applications and has an extensive set of scientific and mathematical packages which has made the language very attractive for scientific and engineering applications.\n",
    "\n",
    "## What are Jupyter Notebooks?\n",
    "The Jupyter Notebook is an open-source web application that allows you to create and share documents that contain live code, equations, visualizations and narrative text. Uses include: data cleaning and transformation, numerical simulation, statistical modeling, data visualization, machine learning, and much more.\n",
    "\n",
    "<img src=\"jupyterpreview.png\" width=400 />\n",
    "\n",
    "## What is JupyterLab?\n",
    "JupyterLab is a web-based interactive development environment for Jupyter notebooks, code, and data. JupyterLab is flexible: configure and arrange the user interface to support a wide range of workflows in data science, scientific computing, and machine learning. JupyterLab is extensible and modular: write plugins that add new components and integrate with existing ones.\n",
    "\n",
    "<img src=\"labpreview.png\" width=400 />\n",
    "\n",
    "## Installation <a id='Installation'></a>\n",
    "We will be using Python (mostly via Jupyter notebooks) along with a few specific packages such as `numpy`, `scipy`, `matplotlib`, and `sympy` and for ease of installation and cross-platform compatibility we will be installing the [Anaconda](www.anaconda.com/download) distribution.\n",
    "\n",
    "## Getting Started <a id='Getting Started'></a>\n",
    "After downloading and installing Anaconda, you should test it out to be sure it functions correctly.  The easiest way to do this would be to start up the Anaconda application (the Anaconda Navigator).\n",
    "\n",
    "**MacOS** \n",
    "- Open Launchpad, then click the Anaconda-Navigator icon.\n",
    "- Or open Launchpad and click the terminal icon. Then in terminal, type `anaconda-navigator`.\n",
    "\n",
    "**Windows**\n",
    "- From the Start menu, click the Anaconda Navigator desktop app.\n",
    "\n",
    "**Linux**\n",
    "- Open a terminal window and type `anaconda-navigator`\n",
    "\n",
    "## JupyterLab/Jupyter Notebooks\n",
    "Although everything we do in class will be able to be accomplished directly using pure Python language constructs, the interactive and user-friendly nature of Jupyterlab and Jupyter notebooks make them the ideal choice for instruction.  This document will assume that students will access all of the Jupyter notebooks through the Jupyterlab IDE and hence this document will be written with that goal in mind.\n",
    "\n",
    "### Launch JupyterLab\n",
    "From the Anaconda Navigator screen, select the JupyterLab icon to launch the application IDE.  It may take a moment to start up depending on the speed of your computer.\n",
    "\n",
    "<img src=\"navigator.png\" width=700 />\n",
    "\n",
    "### The JupyterLab Interface <a id='The JupyterLab Interface'></a>\n",
    "The JupyterLab interface consists of a <a href='#Main Work Area'>main work area</a> containing tabs of documents and activities, a collapsible <a href='#Left Side Bar'>left sidebar</a>, and a <a href='#Menu Bar'>menu bar</a>. The left sidebar contains a <a href='#File Browser'>file browser</a>, the <a href='#List of Running Kernels and Terminals'>list of running kernels and terminals</a>, the <a href='#Command Palette'>command palette</a>, the <a href='#Notebook cell tools inspector'>notebook cell tools inspector</a>, and the <a href='#Tabs List'>tabs list</a>.\n",
    "\n",
    "<img src=\"interface_jupyterlab1.png\" width=700 />\n",
    "\n",
    "JupyterLab sessions always reside in a workspace. Workspaces contain the state of JupyterLab: the files that are currently open, the layout of the application areas and tabs, etc. Workspaces can be saved on the server with named workspace URLs. To learn more about URLs in Jupyterlab, visit JupyterLab URLs.\n",
    "\n",
    "### Menu Bar <a id='Menu Bar'></a>\n",
    "The menu bar at the top of JupyterLab has top-level menus that expose actions available in JupyterLab with their keyboard shortcuts. The default menus are:\n",
    "\n",
    "- **File:** actions related to files and directories\n",
    "- **Edit:** actions related to editing documents and other activities\n",
    "- **View:** actions that alter the appearance of JupyterLab\n",
    "- **Run:** actions for running code in different activities such as notebooks and code consoles\n",
    "- **Kernel:** actions for managing kernels, which are separate processes for running code\n",
    "- **Tabs:** a list of the open documents and activities in the dock panel\n",
    "- **Settings:** common settings and an advanced settings editor\n",
    "- **Help:** a list of JupyterLab and kernel help links\n",
    "\n",
    "### Left Side Bar <a id='Left Side Bar'></a>\n",
    "The left sidebar contains a number of commonly-used tabs, such as a file browser, a list of running kernels and terminals, the command palette, and a list of tabs in the main work area:\n",
    "\n",
    "<img src=\"interface_left.png\" width = 300 />\n",
    "\n",
    "The left sidebar can be collapsed or expanded by selecting “Show Left Sidebar” in the View menu or by clicking on the active sidebar tab.\n",
    "\n",
    "### Main Work Area <a id='Main Work Area'></a>\n",
    "The main work area in JupyterLab enables you to arrange documents (notebooks, text files, etc.) and other activities (terminals, code consoles, etc.) into panels of tabs that can be resized or subdivided. Drag a tab to the center of a tab panel to move the tab to the panel. Subdivide a tab panel by dragging a tab to the left, right, top, or bottom of the panel.\n",
    "\n",
    "The work area has a single current activity. The tab for the current activity is marked with a colored top border (blue by default).\n",
    "\n",
    "### Tabs and Single Document Mode <a id='Tabs List'></a>\n",
    "The Tabs panel in the left sidebar lists the open documents or activities in the main work area:\n",
    "\n",
    "<img src=\"interface_tabs.png\" width=300 />\n",
    "\n",
    "The same information is also available in the Tabs menu:\n",
    "\n",
    "<img src=\"interface_tabs_menu.png\" width=550 />\n",
    "\n",
    "It is often useful to focus on a single document or activity without closing other tabs in the main work area. Single-document mode enable this, while making it simple to return to your multi-activity layout in the main work area. Toggle single-document mode using the View menu.  When you leave single-document mode, the original layout of the main area is restored.\n",
    "\n",
    "### Context Menus\n",
    "Many parts of JupyterLab, such as notebooks, text files, code consoles, and tabs, have context menus that can be accessed by right-clicking on the element. The browser’s native context menu can be accessed by holding down `Shift` and right-clicking.\n",
    "\n",
    "### Keyboard Shortcuts\n",
    "As in the classic Notebook, you can navigate the user interface through keyboard shortcuts. You can find and customize the current list of keyboard shortcuts by selecting the Advanced Settings Editor item in the Settings menu, then selecting Keyboard Shortcuts in the Settings tab.\n",
    "\n",
    "You can also customize the <a href='#Text Editor'>text editor</a> to use vim, emacs, or Sublime Text keyboard maps by using the Text Editor Key Map submenu in the Settings menu:\n",
    "\n",
    "### Working with Files <a id='File Browser'></a>\n",
    "The file browser and File menu enable you to work with files and directories on your system. This includes opening, creating, deleting, renaming, downloading, copying, and sharing files and directories.\n",
    "\n",
    "The file browser is in the left sidebar Files tab:\n",
    "\n",
    "<img src=\"file_menu_left.png\" width=150 />\n",
    "\n",
    "Many actions on files can also be carried out in the File menu:\n",
    "\n",
    "<img src=\"file_menu_top.png\" width=400 />\n",
    "\n",
    "#### Opening Files\n",
    "To open any file, double-click on its name in the file browser.  You can also drag a file into the main work area to create a new tab.  The file system can be navigated by double-clicking on folders in the listing or clicking on the folders at the top of the directory listing.\n",
    "\n",
    "Right-click on a file or directory and select “Copy Shareable Link” to copy a URL that can be used to open JupyterLab with that file or directory open.\n",
    "\n",
    "<img src=\"shareable_link.png\" width=250 />\n",
    "\n",
    "Right-click on a file or directory and select “Copy Path” to copy the filesystem relative path. This can be used for passing arguments to open files in functions called in various kernels.\n",
    "\n",
    "#### Creating Files and Activities\n",
    "Create new files or activities by clicking the `+` button at the top of the file browser. This will open a new Launcher tab in the main work area, which enables you to pick an activity and kernel:\n",
    "\n",
    "<img src=\"launcher.png\" width=800 />\n",
    "\n",
    "You can also create new documents or activities using the File menu:\n",
    "\n",
    "<img src=\"file_create_text_file.png\" width=400 />\n",
    "\n",
    "The current working directory of a new activity or document will be the directory listed in the file browser (except for a terminal, which always starts in the root directory of the file browser).  A new file is created with a default name. Rename a file by right-clicking on its name in the file browser and selecting “Rename” from the context menu.\n",
    "\n",
    "### Managing Kernels and Terminals <a id='List of Running Kernels and Terminals'></a>\n",
    "The Running panel in the left sidebar shows a list of all the kernels and terminals currently running across all notebooks, code consoles, and directories:\n",
    "\n",
    "<img src=\"running_layout.png\" width=300 />\n",
    "\n",
    "As with the classic Jupyter Notebook, when you close a notebook document, code console, or terminal, the underlying kernel or terminal running on the server continues to run. This enables you to perform long-running actions and return later. The Running panel enables you to re-open or focus the document linked to a given kernel or terminal.  \n",
    "\n",
    "Kernels or terminals can be shut down from the Running panel.  You can shut down all kernels and terminals by clicking the `X` button:\n",
    "\n",
    "### Command Palette <a id='Command Palette'></a>\n",
    "All user actions in JupyterLab are processed through a centralized command system. These commands are shared and used throughout JupyterLab (menu bar, context menus, keyboard shortcuts, etc.). The command palette in the left sidebar provides a keyboard-driven way to search for and run JupyterLab commands:\n",
    "\n",
    "<img src=\"command_palette.png\" width=300 />\n",
    "\n",
    "The command palette can be accessed using the keyboard shortcut `Command/Ctrl Shift C`.\n",
    "\n",
    "### Notebooks <a id='Notebook Cell Tools Inspector'></a>\n",
    "Jupyter notebooks are documents that combine live runnable code with narrative text (Markdown), equations (LaTeX), images, interactive visualizations and other rich output:\n",
    "\n",
    "<img src=\"notebook_ui.png\" width=800 />\n",
    "\n",
    "Jupyter notebooks (`.ipynb` files) are fully supported in JupyterLab. The notebook document format used in JupyterLab is the same as in the classic Jupyter Notebook. Your existing notebooks should open correctly in JupyterLab.\n",
    "\n",
    "## The Jupyter Notebook User Interface <a id='The Jupyter Notebook User Interface'></a>\n",
    "When you create a new notebook document, you will be presented with the <a href='#notebook name'>notebook name</a>, a <a href='#toolbar'>toolbar</a> and a <a href='#code cell'>code cell</a>.\n",
    "\n",
    "<img src=\"jupyter_notebook_ui.png\" width=800 />\n",
    "\n",
    "**Notebook Name:** <a id='notebook name'></a> The name displayed at the top of the document tab reflects the name of the `.ipynb` file. Right-clicking on the notebook name brings up a context menu which allows you to rename it. Thus, renaming a notebook from “Untitled0” to “My first notebook” in the browser, renames the `Untitled0.ipynb` file to `My first notebook.ipynb`.\n",
    "\n",
    "**Toolbar:** <a id='toolbar'></a> The tool bar gives a quick way of performing the most-used operations within the notebook, by clicking on an icon.\n",
    "\n",
    "**Code Cell:** <a id='code cell'></a> the default type of cell; read on for an explanation of cells.\n",
    "\n",
    "### Structure of a Notebook Document\n",
    "The notebook consists of a sequence of cells.  A cell is a multiline text input field, and its contents can be executed by using `Shift-Enter`, or by clicking the “Play” button the toolbar. The execution behavior of a cell is determined by the cell’s type. There are three types of cells: <a href='#code cells'>code cells</a>, <a href='#markdown cells'>markdown cells</a>, and <a href='#raw cells'>raw cells</a>. Every cell starts off being a code cell, but its type can be changed by using a drop-down on the toolbar (which will be “Code”, initially), or via keyboard shortcuts.\n",
    "\n",
    "#### Code Cells <a id='code cells'></a>\n",
    "A code cell allows you to edit and write new code, with full syntax highlighting and tab completion. The programming language you use depends on the kernel, and the default kernel (IPython) runs Python code.\n",
    "\n",
    "When a code cell is executed, code that it contains is sent to the kernel associated with the notebook. The results that are returned from this computation are then displayed in the notebook as the cell’s output. The output is not limited to text, with many other possible forms of output are also possible, including `matplotlib` figures and HTML tables (as used, for example, in the `pandas` data analysis package). This is known as IPython’s rich display capability.\n",
    "\n",
    "#### Markdown Cells <a id='markdown cells'></a>\n",
    "You can document the computational process in a literate way, alternating descriptive text with code, using rich text. In IPython this is accomplished by marking up text with the Markdown language. The corresponding cells are called Markdown cells. The Markdown language provides a simple way to perform this text markup, that is, to specify which parts of the text should be emphasized (italics), bold, form lists, etc.\n",
    "\n",
    "If you want to provide structure for your document, you can use markdown headings. Markdown headings consist of 1 to 6 hash # signs `#` followed by a space and the title of your section. The markdown heading will be converted to a clickable link for a section of the notebook. It is also used as a hint when exporting to other document formats, like PDF.\n",
    "\n",
    "When a Markdown cell is executed, the Markdown code is converted into the corresponding formatted rich text. Markdown allows arbitrary HTML code for formatting.\n",
    "\n",
    "Within Markdown cells, you can also include mathematics in a straightforward way, using standard LaTeX notation: `$...$` for inline mathematics and `$$...$$` for displayed mathematics. When the Markdown cell is executed, the LaTeX portions are automatically rendered in the HTML output as equations with high quality typography. This is made possible by [MathJax](https://www.mathjax.org), which supports a large subset of LaTeX functionality\n",
    "\n",
    "Standard mathematics environments defined by LaTeX and AMS-LaTeX (the amsmath package) also work, such as `\\begin{equation}...\\end{equation}`, and `\\begin{align}...\\end{align}`. New LaTeX macros may be defined using standard methods, such as `\\newcommand`, by placing them anywhere between math delimiters in a Markdown cell. These definitions are then available throughout the rest of the IPython session.\n",
    "\n",
    "#### Raw Cells <a id='raw cells'></a>\n",
    "Raw cells provide a place in which you can write output directly. Raw cells are not evaluated by the notebook. When passed through `nbconvert`, raw cells arrive in the destination format unmodified. For example, you can type full LaTeX into a raw cell, which will only be rendered by LaTeX after conversion by `nbconvert`.\n",
    "\n",
    "## Basic Calculations <a id='Basic Calculations'></a>\n",
    "This section provides enough Python review to enable the reader to perform simple calculations and plotting.  Further information can be obtained with any online Python programming reference.  Use your friend [Google](http://www.google.com) to find further information.\n",
    "\n",
    "Jupyter displays the prompt `[ ]:` in an empty code cell to indicate that it is ready to receive input.  To divide 8 by 10, type `8/10` in the empty input cell below and press `Shift-enter` or the \"Run\" button.  You should see Python report back the answer as `0.8`."
   ]
  },
  {
   "cell_type": "code",
   "execution_count": null,
   "metadata": {},
   "outputs": [],
   "source": []
  },
  {
   "cell_type": "markdown",
   "metadata": {},
   "source": [
    "## Assignment of Variables <a id='Assignment Statements'></a>\n",
    "Because Python is a high-level programming language (not a basic calculator) it is good programming practice to assign any results of a calculation to a variable name.  It would be better instead to perform the calcuation above using a statement such as \n",
    "\n",
    "```python\n",
    "a = 8/10\n",
    "```\n",
    "\n",
    "Try it again in the empty code cell below."
   ]
  },
  {
   "cell_type": "code",
   "execution_count": null,
   "metadata": {},
   "outputs": [],
   "source": []
  },
  {
   "cell_type": "markdown",
   "metadata": {},
   "source": [
    "Notice how nothing gets reported back.  In order to be sure that the result was stored, one could either echo the variable back\n",
    "\n",
    "```python\n",
    "a = 8/10\n",
    "a\n",
    "```\n",
    "or \n",
    "```python\n",
    "a = 8/10\n",
    "print(\"a = \",a)\n",
    "```"
   ]
  },
  {
   "cell_type": "code",
   "execution_count": null,
   "metadata": {},
   "outputs": [],
   "source": []
  },
  {
   "cell_type": "markdown",
   "metadata": {},
   "source": [
    "## External Libraries <a id='External Libraries'></a>\n",
    "THe base Python language has been purposfully kept limited with the goal of producing and maintaining a programming language that is highly readable to the end-user.  Furthermore, because Python is an _interpreted_ language not a _compiled_ language (like C, C++, or Fortran), the underlying code is converted into a machine language at run-time.  The advantage is that the results of any code execution (_i.e._, the user presses the \"run\" button or `Shift-enter`) is instantaneous.  The disadvantage is the _interpreted_ languages tend to be a little slower because the compiler does all of the work at run-time.  Another example of a compiled program would be an App you might download onto your smartphone or computer.  The program has been pre-compiled and packaged up (`.exe` file on Windows, `.app` file on Mac) so the user doesn't know any of the details but the code runs fast.\n",
    "\n",
    "To alleviate the inherent slowness in an _interpreted_ language, authors will limit the base or core functionality in the language and package up any additional functionality that not every user may need or want into libraries or packages.  These libraries are then `imported` into individual users codes as needed.  Examples might included numerical operations, plotting, symbolic computation, etc.  Afterall, a programmer of an web-based informational database may not need to perform complicated mathematics like sine or cosine so they would not want to slow down their system with those libraries.\n",
    "\n",
    "## Numerical Array Variables <a id='Numerical Array Variables'></a>\n",
    "Python can work with arrays of numbers, such as columns of data or tables of data (rows and columns). However, by default since Python was not originally designed for scientific computing, it is set up to handle lists of any kind of data — like strings of names or addresses, not just numbers — so the function array from the `numpy` (Numerical Python) library must be used to tell Python that a given set of numbers should be treated as a numerical array. \n",
    "\n",
    "Before continuing, let's gain some understanding of the syntax for calling functions from libraries.\n",
    "Behind the scenes, Anaconda installs the libraries `numpy`, `scipy`, and `matplotlib` to give you access to thousands of special functions. Every time you want to call one of these functions, you must first type the name of the library, followed by the name of the function like \n",
    "```python\n",
    "import library_name \n",
    "library_name.function_name\n",
    "```\n",
    "Furthermore, the library must have been imported before you type this command.  Before using any of these function, one must first `import` the specific library they wish to use functionality from.  For instance, we may wish to use some array functionality from the `numpy` library.  The following code cell imports the library and assigns an alias or user-friendly name (in this case `np`, but it could be anything you wish) for the library.  Then two numerical vectors (`array`'s) are created and mathematically added together."
   ]
  },
  {
   "cell_type": "code",
   "execution_count": 1,
   "metadata": {},
   "outputs": [
    {
     "name": "stdout",
     "output_type": "stream",
     "text": [
      "z =  [5 2 6 6]\n"
     ]
    }
   ],
   "source": [
    "import numpy as np\n",
    "x = np.array([1, 2, 3, 4])\n",
    "y = np.array([4, 0, 3, 2])\n",
    "z = x + y\n",
    "print(\"z = \",z)"
   ]
  },
  {
   "cell_type": "markdown",
   "metadata": {},
   "source": [
    "The code below demonstrates the difference between the `default` list-type behavior and the numerical `array` behavior demonstrated above (and the one we will almost always use)."
   ]
  },
  {
   "cell_type": "code",
   "execution_count": 2,
   "metadata": {},
   "outputs": [
    {
     "name": "stdout",
     "output_type": "stream",
     "text": [
      "z =  [1, 2, 3, 4, 4, 0, 3, 2]\n"
     ]
    }
   ],
   "source": [
    "x = [1, 2, 3, 4]\n",
    "y = [4, 0, 3, 2]\n",
    "z = x + y\n",
    "print(\"z = \",z)"
   ]
  },
  {
   "cell_type": "markdown",
   "metadata": {},
   "source": [
    "It is also worth noting that Python happily overwrites `x`,`y` and `z` with no error message, even when it means changing their variable types—this behavior is different from that of programming languages that declare variables (like C, C++ or Fortran).\n",
    "\n",
    "When working with real data, we may have both rows and columns. For example, we might want to define an array with 3 rows and 2 columns (3$\\times$2).  If you want to pick out a single element (number) from the array, you would use square brackets like"
   ]
  },
  {
   "cell_type": "code",
   "execution_count": 3,
   "metadata": {},
   "outputs": [
    {
     "name": "stdout",
     "output_type": "stream",
     "text": [
      "x[2,1] =  11\n"
     ]
    }
   ],
   "source": [
    "x = np.array([[1,3],[2,4],[10,11]])\n",
    "print(\"x[2,1] = \", x[2,1])"
   ]
  },
  {
   "cell_type": "markdown",
   "metadata": {},
   "source": [
    "The command `x[2,1]` picks out the element located at row 3, column 2 in array `x` (the `11`). This is because Python’s indexing starts at 0, not 1. That is, if you wanted the element in row 1, column 1, you would type `x[0,0]`. This is different to MatLab, whose indexing starts at 1.\n",
    "\n",
    "To pick out more than a single element, the colon operator is used but you should note that the operator behaves a little strangely as compared to other programming languages as demonstrated in the following examples.\n",
    "\n",
    "Let's start by visualizing the above array again.\n",
    "\n",
    "$$x = \\begin{bmatrix}1 & 3 \\\\ 2 & 4 \\\\ 10 & 11\\end{bmatrix}$$\n",
    "\n",
    "Suppose we wanted to form a subarray containing all of the elements of $x$ starting with the second row and first column (`row index = 1`, `column index = 0`) to the end of the array.  A first attempt might be to try the following:"
   ]
  },
  {
   "cell_type": "code",
   "execution_count": 4,
   "metadata": {},
   "outputs": [
    {
     "data": {
      "text/plain": [
       "array([[2]])"
      ]
     },
     "execution_count": 4,
     "metadata": {},
     "output_type": "execute_result"
    }
   ],
   "source": [
    "x[1:2,0:1]"
   ]
  },
  {
   "cell_type": "markdown",
   "metadata": {},
   "source": [
    "Notice that this only returns the value from row 2, column 1 (`row index = 1`, `column index = 0`) so one might ask the question as to what is going on here.  It turns out that the colon operator \n",
    "\n",
    "```python\n",
    "start:end\n",
    "```\n",
    "\n",
    "actually means elements starting at `start` and ending at `end-1`.\n",
    "\n",
    "The other nuance of the color operator is that if the colon is used with no index numbers specified, the operation will return all elements.  So say for instance, we wanted to form a vector from the example above containing all elements in the second column (`column index = 1`) then we would issue"
   ]
  },
  {
   "cell_type": "code",
   "execution_count": 5,
   "metadata": {},
   "outputs": [
    {
     "data": {
      "text/plain": [
       "array([ 3,  4, 11])"
      ]
     },
     "execution_count": 5,
     "metadata": {},
     "output_type": "execute_result"
    }
   ],
   "source": [
    "x[:,1]"
   ]
  },
  {
   "cell_type": "markdown",
   "metadata": {},
   "source": [
    "### Special Array Functions <a id='Special Array Functions'></a>\n",
    "There are several functions available in `numpy` that greatly simplify the process of generating large arrays of numbers.\n",
    "\n",
    "1. `arange()`: used to generate a series of numbers, either in `+1` increments (the default) or in increments you specify.  The function is called by specifying 2 or 3 numbers as follows:\n",
    "\n",
    "- the first numnber: is the starting number\n",
    "- the second number: is the ending number (minus 1) because of the quirky way Python indexes arrays\n",
    "- the third number (_option_): is the increment (which defaults to `1` if not specified)"
   ]
  },
  {
   "cell_type": "code",
   "execution_count": 6,
   "metadata": {},
   "outputs": [
    {
     "name": "stdout",
     "output_type": "stream",
     "text": [
      "x1 =  [1 2 3 4]\n",
      "x2 =  [1 3]\n"
     ]
    }
   ],
   "source": [
    "x1 = np.arange(1,5)\n",
    "x2 = np.arange(1,5,2)\n",
    "print(\"x1 = \", x1)\n",
    "print(\"x2 = \", x2)"
   ]
  },
  {
   "cell_type": "markdown",
   "metadata": {},
   "source": [
    "2. `zeros()`: fills an array with values all equal to `0`.  This is useful when you want to create a large array that contains mostly `0`'s and fill-in the non-zero values afterwards."
   ]
  },
  {
   "cell_type": "code",
   "execution_count": 7,
   "metadata": {},
   "outputs": [
    {
     "name": "stdout",
     "output_type": "stream",
     "text": [
      "The size of x1 = (4, 3)\n",
      "x1 = [[0. 0. 0.]\n",
      " [0. 0. 0.]\n",
      " [0. 0. 0.]\n",
      " [0. 0. 0.]]\n",
      "The size of x2 = (4,)\n",
      "x2 = [1 2 3 4]\n"
     ]
    }
   ],
   "source": [
    "x1 = np.zeros([4,3])\n",
    "print(\"The size of x1 =\", x1.shape)\n",
    "print(\"x1 =\", x1)\n",
    "\n",
    "x2 = np.arange(1,5)\n",
    "print(\"The size of x2 =\", x2.shape)\n",
    "print(\"x2 =\", x2)"
   ]
  },
  {
   "cell_type": "markdown",
   "metadata": {},
   "source": [
    "Notice the size of array `x1` is 4 rows $\\times$ 3 columns and the size of array `x2` is 4 columns $\\times$ 1 row.  Now let's see what happens when we try to replace the second column of `x1` with the contents of `x2`"
   ]
  },
  {
   "cell_type": "code",
   "execution_count": 8,
   "metadata": {},
   "outputs": [
    {
     "name": "stdout",
     "output_type": "stream",
     "text": [
      "x1 = [[0. 1. 0.]\n",
      " [0. 2. 0.]\n",
      " [0. 3. 0.]\n",
      " [0. 4. 0.]]\n"
     ]
    }
   ],
   "source": [
    "x1[:,1] = x2\n",
    "print(\"x1 =\", x1)"
   ]
  },
  {
   "cell_type": "markdown",
   "metadata": {},
   "source": [
    "Notice that Python (`numpy`) first transposes the row of `x2` into a column vector and inserts it into the second column of `x1` "
   ]
  },
  {
   "cell_type": "markdown",
   "metadata": {},
   "source": [
    "## Mathematical Functions <a id='Mathematical Functions'></a>\n",
    "Python has several predefined special constants such as the value of $\\pi$ as well as the imaginary number $j = \\sqrt{-1}$.  In addition, Python has a number of mathematical operators, trigonometric functions, and algebraic functions.  Below is a \"less-than-comprehensive\" list of some constants and functions you may find useful.\n",
    "\n",
    "`j` when appended to a number, represents an imaginary component of a complex number <br>\n",
    "`+` addition <br>\n",
    "`-` subtraction <br>\n",
    "`*` multiplication <br>\n",
    "`/` division <br>\n",
    "`**` power <br>\n",
    "`e` exponent (10 to the power of ...) <br>\n",
    "`abs()` absolute value <br>\n",
    "\n",
    "The following constants/functions require `numpy` <br>\n",
    "`pi` the value of $\\pi$ <br>\n",
    "`sqrt()` square root <br>\n",
    "`exp()` exponential <br>\n",
    "`log()` natural log <br>\n",
    "`log10()` log base 10 <br>\n",
    "`sin()` sine of an angle specified in radians <br>\n",
    "`cos()` cosine of an angle specified in radians <br>\n",
    "`tan()` tangent of an angle specified in radians <br>\n",
    "\n",
    "## Linear Algebra (Matrix Math) <a id='Linear Algebra'></a>\n",
    "Note that all of the above operators/functions perform _element-wise_ arithmatic on arrays.  An important point to remember is that numerical arrays are just a programmatic way of storing a lot of values (essentially a table of numbers).  In contrast, a matrix or vector is a linear algebra entity with certain inherent associated mathematical operations (such as dot product, cross product etc.).  Scientific programming makes use of array storage as a convenient mechanism for holding the values contained within matrices and vectors.  However, standard or even `numpy` mathematical operators like `*` are not embued with the knowledge of linear algebra.  Some programming languages like MatLab have overloaded the multiplication operator `*` with the property of performing matrix-vector multiplication.  The following example illustrates this concept.\n",
    "\n",
    "Given a column vector $\\mathbf{x}$ and square matrix $\\mathbf{A}$\n",
    "\n",
    "$$ \\mathbf{x} = \\begin{bmatrix} 10 \\\\ 20 \\end{bmatrix}, \\qquad \\mathbf{A} = \\begin{bmatrix} 1 & 2 \\\\ 3 & 4 \\end{bmatrix}. $$ \n",
    "\n",
    "If $\\mathbf{b} = \\mathbf{A}\\mathbf{x}$ by matrix-vector multiplication,\n",
    "\n",
    "$$ \\mathbf{b} = \\mathbf{A}\\mathbf{x} = \\begin{bmatrix} 1*10+2*20 \\\\ 3*10+4*20\\end{bmatrix} = \\begin{bmatrix} 50 \\\\ 110 \\end{bmatrix}$$\n",
    "\n",
    "In MatLab, this operation would be accomplished as follows:\n",
    "\n",
    "```matlab\n",
    ">> x = [10; 20]\n",
    ">> A = [1, 2; 3, 4]\n",
    ">> b = A*x\n",
    "```\n",
    "\n",
    "Let's try it in Python and see what happens."
   ]
  },
  {
   "cell_type": "code",
   "execution_count": 9,
   "metadata": {},
   "outputs": [
    {
     "name": "stdout",
     "output_type": "stream",
     "text": [
      "b = [[10 20]\n",
      " [60 80]]\n"
     ]
    }
   ],
   "source": [
    "x = np.array([[10],[20]])\n",
    "A = np.array([[1, 2],[3, 4]])\n",
    "b = A*x\n",
    "print(\"b =\", b)"
   ]
  },
  {
   "cell_type": "markdown",
   "metadata": {},
   "source": [
    "To achieve true matrix multiplication, we will need to use the `dot()` function from the `numpy` library as follows"
   ]
  },
  {
   "cell_type": "code",
   "execution_count": 10,
   "metadata": {},
   "outputs": [
    {
     "name": "stdout",
     "output_type": "stream",
     "text": [
      "b = [[ 50]\n",
      " [110]]\n"
     ]
    }
   ],
   "source": [
    "b = A.dot(x)\n",
    "print(\"b =\", b)"
   ]
  },
  {
   "cell_type": "markdown",
   "metadata": {},
   "source": [
    "Notice how the correct matrix multiplication — which is really called the _dot product_ or _inner product_ — is performed.  You should also notice that although the `dot()` function is from the `numpy` library, we didn't need to tell Python we wanted the function from that library like we normally do.  This is because the `dot()` function is actually operating directly on the `A` array which has been predefined as a `numpy` array and in technical programming speak, `A` is an object of a class in the `numpy` library and `dot()` is a function of the class so the Python interpreter knows that `dot()` operates on an object `A` of `numpy class array`. \n",
    "\n",
    "## Importing Data and Plotting <a id='Importing Data and Plotting'></a>\n",
    "Often in scientific programming, one needs to import large amounts of data from an external file for either data manipulation and/or plotting to analyze the data.  The `numpy` library contains functionality for directly importing data which has been organized into rows and colulmns and store the data into a numerical array.  \n",
    "\n",
    "### Data Import\n",
    "To import the data from a CSV (comma separated values) file which is a common way to store data, one would first import the `pandas` library, read the file into a `pandas` object and then extract the values directly into a `numpy` data array."
   ]
  },
  {
   "cell_type": "code",
   "execution_count": 26,
   "metadata": {},
   "outputs": [
    {
     "name": "stdout",
     "output_type": "stream",
     "text": [
      "data = [[  0   0]\n",
      " [  1   1]\n",
      " [  2   4]\n",
      " [  3   9]\n",
      " [  4  16]\n",
      " [  5  25]\n",
      " [  6  36]\n",
      " [  7  49]\n",
      " [  8  64]\n",
      " [  9  81]\n",
      " [ 10 100]]\n"
     ]
    }
   ],
   "source": [
    "import pandas as pd\n",
    "df = pd.read_csv('test_data.csv',sep=',',header=None)\n",
    "data = df.values\n",
    "print(\"data =\", data)"
   ]
  },
  {
   "cell_type": "markdown",
   "metadata": {},
   "source": [
    "### Plotting Data\n",
    "The `matplotlib` library provides a comprehensive library for creating static, animated, and interactive visualizations in Python.  The plotting functions and settings are too extensive to document here, however, the funtionality and syntax bears significant resemblance to plotting in MatLab.  Users my also find additional documentation at the [matplot library](https://www.matplotlib.org) website.\n",
    "\n",
    "To make a simple line plot of the data just read in assuming the 1st column is the x-axis and 2nd column is the y-axis.  Note the resulting plot with be somewhat unimpressive.  There are way too many options for customization that we will go over throughout the course."
   ]
  },
  {
   "cell_type": "code",
   "execution_count": 27,
   "metadata": {},
   "outputs": [
    {
     "data": {
      "text/plain": [
       "[<matplotlib.lines.Line2D at 0x11fbed190>]"
      ]
     },
     "execution_count": 27,
     "metadata": {},
     "output_type": "execute_result"
    },
    {
     "data": {
      "image/png": "[encoded data removed]",
      "text/plain": [
       "<Figure size 432x288 with 1 Axes>"
      ]
     },
     "metadata": {
      "needs_background": "light"
     },
     "output_type": "display_data"
    }
   ],
   "source": [
    "import matplotlib.pyplot as plt\n",
    "plt.plot(data[:,0],data[:,1])"
   ]
  },
  {
   "cell_type": "markdown",
   "metadata": {},
   "source": [
    "## References <a id='References'></a>\n",
    "Some additional resources that you might find useful are listed below:\n",
    "1. [NumPy: The fundamental package for scientific computing with Python](https://www.numpy.org)\n",
    "2. [SciPy: Fundamental library for scientific computing](https://www.scipy.org)\n",
    "3. [matplotlib: Visualization with Python](https://www.matplotlib.org)\n",
    "4. [scikit-learn: Machine learning in Python](https://scikit-learn.org)\n",
    "\n",
    "\n",
    "The following references were consulted to create this document.\n",
    "\n",
    "1. [Project Jupyter](http://www.jupyter.org)\n",
    "2. Kump, P. _Python Tutorial for Data Analysis_."
   ]
  },
  {
   "cell_type": "code",
   "execution_count": null,
   "metadata": {},
   "outputs": [],
   "source": []
  }
 ],
 "metadata": {
  "kernelspec": {
   "display_name": "Python 3",
   "language": "python",
   "name": "python3"
  },
  "language_info": {
   "codemirror_mode": {
    "name": "ipython",
    "version": 3
   },
   "file_extension": ".py",
   "mimetype": "text/x-python",
   "name": "python",
   "nbconvert_exporter": "python",
   "pygments_lexer": "ipython3",
   "version": "3.7.6"
  }
 },
 "nbformat": 4,
 "nbformat_minor": 4
}
