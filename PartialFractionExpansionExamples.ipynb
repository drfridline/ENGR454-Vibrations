{
 "cells": [
  {
   "cell_type": "markdown",
   "metadata": {},
   "source": [
    "# Example: Partial Fraction Expansion\n",
    "Consider the __transfer function__ from which we previously computed the __partial-fraction expansion__ as\n",
    "\n",
    "$$ T(s) = \\frac{X(s)}{F(s)} = \\frac{8s + 13}{s^2 + 4s + 53} \\qquad T(s) = -\\frac{3}{7}\\frac{7}{(s+2)^2+7^2} + 8\\frac{s+2}{(s+2)^2+7^2} $$"
   ]
  },
  {
   "cell_type": "code",
   "execution_count": 2,
   "metadata": {},
   "outputs": [],
   "source": [
    "import numpy as np\n",
    "from scipy import signal"
   ]
  },
  {
   "cell_type": "markdown",
   "metadata": {},
   "source": [
    "Define the numerator and denominator of the transfer function."
   ]
  },
  {
   "cell_type": "code",
   "execution_count": 3,
   "metadata": {},
   "outputs": [],
   "source": [
    "num = np.array([8, 13])\n",
    "den = np.array([1, 4, 53])"
   ]
  },
  {
   "cell_type": "markdown",
   "metadata": {},
   "source": [
    "Compute and print out the residue, poles, and direct terms."
   ]
  },
  {
   "cell_type": "code",
   "execution_count": 4,
   "metadata": {},
   "outputs": [
    {
     "name": "stdout",
     "output_type": "stream",
     "text": [
      "r = [4.+0.21428571j 4.-0.21428571j]\n",
      "p = [-2.+7.j -2.-7.j]\n",
      "k = []\n"
     ]
    }
   ],
   "source": [
    "r, p, k = signal.residue(num, den)\n",
    "print('r = '+str(r))\n",
    "print('p = '+str(p))\n",
    "print('k = '+str(k))"
   ]
  }
 ],
 "metadata": {
  "kernelspec": {
   "display_name": "Python 3",
   "language": "python",
   "name": "python3"
  },
  "language_info": {
   "codemirror_mode": {
    "name": "ipython",
    "version": 3
   },
   "file_extension": ".py",
   "mimetype": "text/x-python",
   "name": "python",
   "nbconvert_exporter": "python",
   "pygments_lexer": "ipython3",
   "version": "3.8.3"
  }
 },
 "nbformat": 4,
 "nbformat_minor": 4
}
